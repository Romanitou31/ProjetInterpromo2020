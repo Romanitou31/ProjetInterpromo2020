{
 "cells": [
  {
   "cell_type": "markdown",
   "metadata": {},
   "source": [
    "# Introduction"
   ]
  },
  {
   "cell_type": "code",
   "execution_count": 1,
   "metadata": {},
   "outputs": [
    {
     "data": {
      "text/plain": [
       "'\\nCreated on Thurs Jan 9 09:39:35 2020\\nGroup 1\\n@authors: Aicha DIALLO, Fatima SECK\\n'"
      ]
     },
     "execution_count": 1,
     "metadata": {},
     "output_type": "execute_result"
    }
   ],
   "source": [
    "\"\"\"\n",
    "Created on Thurs Jan 9 09:39:35 2020\n",
    "Group 1\n",
    "@authors: Aicha DIALLO, Fatima SECK\n",
    "\"\"\""
   ]
  },
  {
   "cell_type": "markdown",
   "metadata": {},
   "source": [
    "# Environment"
   ]
  },
  {
   "cell_type": "markdown",
   "metadata": {},
   "source": [
    "## Libraries"
   ]
  },
  {
   "cell_type": "code",
   "execution_count": 2,
   "metadata": {},
   "outputs": [],
   "source": [
    "import ast\n",
    "import json\n",
    "import pandas as pd\n",
    "from selenium import webdriver\n",
    "from selenium.webdriver import Chrome\n",
    "from selenium.webdriver.chrome.options import Options\n",
    "import re"
   ]
  },
  {
   "cell_type": "markdown",
   "metadata": {},
   "source": [
    "## Data Loading"
   ]
  },
  {
   "cell_type": "markdown",
   "metadata": {},
   "source": [
    "## Functions"
   ]
  },
  {
   "cell_type": "markdown",
   "metadata": {},
   "source": [
    "This part contains all the functions we developped during the project for Rome2rio"
   ]
  },
  {
   "cell_type": "code",
   "execution_count": 4,
   "metadata": {},
   "outputs": [],
   "source": [
    "def getdata(departure_city, arrival_city):\n",
    "    \"\"\"Documentation\n",
    "\n",
    "    Parameters:\n",
    "\n",
    "        departure_city: The departure city\n",
    "        arrival_city: The arrival city\n",
    "\n",
    "    Return:\n",
    "\n",
    "        datafinal: The final dataframe with the variables imposed in the data dictionary for rom2rio\n",
    "\n",
    "    \"\"\"\n",
    "    # Activation of Chrome Options\n",
    "\n",
    "    chrome_options = Options()\n",
    "    chrome_options.add_argument('--headless')\n",
    "    chrome_options.add_argument('--no-sandbox')\n",
    "    chrome_options.add_argument('--disable-dev-shm-usage')\n",
    "    webdriver = \"/home/sid2018-5/Téléchargements/chromedriver\"\n",
    "\n",
    "    driver = Chrome(webdriver, chrome_options=chrome_options)\n",
    "    # The link of the website we want to scrap\n",
    "    url = \"https://www.rome2rio.com/map/\"+departure_city+\"/\"+arrival_city\n",
    "    driver.get(url)\n",
    "\n",
    "    # The number of items we have by class\n",
    "    items = len(driver.find_elements_by_class_name(\"route__title\"))\n",
    "    items2 = len(driver.find_elements_by_class_name(\"route__details\"))\n",
    "\n",
    "    total = []\n",
    "    data = pd.DataFrame()\n",
    "\n",
    "    # driver.find_elements_by_class_name : to locate an element by class attribute name\n",
    "    for i in range(items):\n",
    "        a = driver.find_elements_by_class_name(\"route__title\")[i].text\n",
    "        b = driver.find_elements_by_class_name(\"route__details\")[i].text\n",
    "\n",
    "        # nb days\n",
    "        jour = \"days\"\n",
    "        if jour in a:\n",
    "            nb_days = int(\n",
    "                ((re.findall(\"[0-9]+\"+\" days\", a))[0]).replace(jour, \"\"))\n",
    "        else:\n",
    "            nb_days = 0\n",
    "        # nb hours\n",
    "            nb_hours = (re.search(\"[0-9]+\"+\"h\", a))\n",
    "            if nb_hours:\n",
    "                nb_hours = int(\n",
    "                    ((re.search(\"[0-9]+\"+\"h\", a)).group(0)).replace(\"h\", \"\"))\n",
    "            else:\n",
    "                nb_hours = 0\n",
    "\n",
    "        # nb minute\n",
    "        nb_minute = re.search(\"[0-9]+\"+\"m\", a)\n",
    "        if nb_minute:\n",
    "            nb_minute = int((nb_minute.group(0)).replace(\"m\", \"\"))\n",
    "        else:\n",
    "            nb_minute = 0\n",
    "\n",
    "        new = ((a, b, nb_days, nb_hours, nb_minute))\n",
    "        total.append(new)\n",
    "\n",
    "    data = pd.DataFrame(total, columns=[\n",
    "                        'itineraire', 'prix', 'liste_jour', 'liste_hours', 'liste_minute'])\n",
    "\n",
    "    data['Data_Source'] = 'Rome2rio'\n",
    "    data['Departure_city'] = departure_city\n",
    "    data['Arrival_city'] = arrival_city\n",
    "    data['Nb_bus_taken'] = data.itineraire.str.count(\"Bus|bus\")\n",
    "    data['Nb_train_taken'] = data.itineraire.str.count(\"Train|train\")\n",
    "    data['Nb_car_taken'] = data.itineraire.str.count(\n",
    "        \"Drive|drive|Rideshare|rideshare|car|Car\")\n",
    "    data['Nb_plane_taken'] = data.itineraire.str.count(\"Fly|fly\")\n",
    "\n",
    "    data['Price_max'] = data['prix'].apply(lambda st: st[st.find(\"-\")+1:])\n",
    "    data['Price_min'] = data['prix'].apply(lambda st: st[:st.find(\"-\")])\n",
    "    data['Duration1'] = data['itineraire'].apply(\n",
    "        lambda st: st[st.find(\"•\")+1:])\n",
    "\n",
    "    data['days'] = data['liste_jour']\n",
    "    data['hours'] = data['liste_hours']\n",
    "    data['minute'] = data['liste_minute']\n",
    "\n",
    "    data['days'] = data['days'].replace('', '0')\n",
    "    data['minute'] = data['minute'].replace('', '0')\n",
    "    data['hours'] = data['hours'].replace('', '0')\n",
    "\n",
    "    data['Duration'] = data['days']*24*60+data['hours']*60+data['minute']\n",
    "\n",
    "    datafinal = data[['Data_Source', 'Departure_city', 'Arrival_city', 'Nb_bus_taken',\n",
    "                      'Nb_train_taken', 'Nb_car_taken', 'Nb_plane_taken', 'Duration', 'Price_min', 'Price_max']]\n",
    "\n",
    "    return datafinal"
   ]
  },
  {
   "cell_type": "markdown",
   "metadata": {},
   "source": [
    "# Crawl"
   ]
  },
  {
   "cell_type": "markdown",
   "metadata": {},
   "source": [
    "This part contains the crawl of Rome2rio website with the execution of all functions \n",
    "\n",
    "To load the script on all European capitals, we can use this list below and replace it instead of example_capitale"
   ]
  },
  {
   "cell_type": "markdown",
   "metadata": {},
   "source": [
    "liste_capitale = [\"Paris\",\n",
    "                  \"Berlin\",\n",
    "                  \"Rome\",\n",
    "                  \"Madrid\",\n",
    "                  \"London\",\n",
    "                  \"Dublin\",\n",
    "                  \"Lisbon\",\n",
    "                  \"Brussels\",\n",
    "                  \"Luxembourg\",\n",
    "                  \"Amsterdam\",\n",
    "                  \"Bern\",\n",
    "                  \"Copenhagen\",\n",
    "                  \"Oslo\",\n",
    "                  \"Stockholm\",\n",
    "                  \"Helsinki\",\n",
    "                  \"Tallinn\",\n",
    "                  \"Riga\",\n",
    "                  \"Vilnius\",\n",
    "                  \"Warsaw\",\n",
    "                  \"Prague\",\n",
    "                  \"Vienna\",\n",
    "                  \"Bratislava\",\n",
    "                  \"Budapest\",\n",
    "                  \"Ljubljana\",\n",
    "                  \"Ankara\"\n",
    "                  \"Bucharest\",\n",
    "                  \"Belgrade\",\n",
    "                  \"Sofia\",\n",
    "                  \"Tijana\",\n",
    "                  \"Skopje\",\n",
    "                  \"Athens\",\n",
    "                  \"Chisinau\",\n",
    "                  \"Kiev\",\n",
    "                  \"Minsk\",\n",
    "                  \"Moscow\",\n",
    "                  \"Tbilissi\",\n",
    "                  \"Bakou\",\n",
    "                  \"Verevan\",\n",
    "                  \"Sarajevo\",\n",
    "                  \"Reykjavik\",\n",
    "                  \"Valletta\",\n",
    "                  \"Zagreb\",\n",
    "                  \"Nicosia\",\n",
    "                  \"Andorra la Vella\",\n",
    "                  \"San Marino\",\n",
    "                  \"Vatican City\"]"
   ]
  },
  {
   "cell_type": "code",
   "execution_count": 6,
   "metadata": {},
   "outputs": [],
   "source": [
    "example_capitale = [\"Paris\",\n",
    "                    \"Berlin\",\n",
    "                    \"Rome\",\n",
    "                    \"Madrid\",\n",
    "                    \"London\",\n",
    "                    \"Dublin\",\n",
    "                    \"Lisbon\"]"
   ]
  },
  {
   "cell_type": "code",
   "execution_count": 7,
   "metadata": {},
   "outputs": [],
   "source": [
    "# To run the function getdata to a list of capitale\n",
    "tmp = [[x, y] for x in example_capitale for y in example_capitale if x != y]\n",
    "appended_data = []\n",
    "for i in range(len(tmp)):\n",
    "    appended_data.append(getdata(tmp[i][0], tmp[i][1]))\n",
    "appended_data = pd.concat(appended_data, ignore_index=True)"
   ]
  },
  {
   "cell_type": "code",
   "execution_count": 12,
   "metadata": {},
   "outputs": [
    {
     "data": {
      "text/html": [
       "<div>\n",
       "<style scoped>\n",
       "    .dataframe tbody tr th:only-of-type {\n",
       "        vertical-align: middle;\n",
       "    }\n",
       "\n",
       "    .dataframe tbody tr th {\n",
       "        vertical-align: top;\n",
       "    }\n",
       "\n",
       "    .dataframe thead th {\n",
       "        text-align: right;\n",
       "    }\n",
       "</style>\n",
       "<table border=\"1\" class=\"dataframe\">\n",
       "  <thead>\n",
       "    <tr style=\"text-align: right;\">\n",
       "      <th></th>\n",
       "      <th>Data_Source</th>\n",
       "      <th>Departure_city</th>\n",
       "      <th>Arrival_city</th>\n",
       "      <th>Nb_bus_taken</th>\n",
       "      <th>Nb_train_taken</th>\n",
       "      <th>Nb_car_taken</th>\n",
       "      <th>Nb_plane_taken</th>\n",
       "      <th>Duration</th>\n",
       "      <th>Price_min</th>\n",
       "      <th>Price_max</th>\n",
       "    </tr>\n",
       "  </thead>\n",
       "  <tbody>\n",
       "    <tr>\n",
       "      <th>0</th>\n",
       "      <td>Rome2rio</td>\n",
       "      <td>Paris</td>\n",
       "      <td>Berlin</td>\n",
       "      <td>0</td>\n",
       "      <td>0</td>\n",
       "      <td>0</td>\n",
       "      <td>1</td>\n",
       "      <td>285</td>\n",
       "      <td>47€</td>\n",
       "      <td>224€</td>\n",
       "    </tr>\n",
       "    <tr>\n",
       "      <th>1</th>\n",
       "      <td>Rome2rio</td>\n",
       "      <td>Paris</td>\n",
       "      <td>Berlin</td>\n",
       "      <td>0</td>\n",
       "      <td>0</td>\n",
       "      <td>0</td>\n",
       "      <td>1</td>\n",
       "      <td>281</td>\n",
       "      <td>49€</td>\n",
       "      <td>277€</td>\n",
       "    </tr>\n",
       "    <tr>\n",
       "      <th>2</th>\n",
       "      <td>Rome2rio</td>\n",
       "      <td>Paris</td>\n",
       "      <td>Berlin</td>\n",
       "      <td>0</td>\n",
       "      <td>0</td>\n",
       "      <td>0</td>\n",
       "      <td>1</td>\n",
       "      <td>293</td>\n",
       "      <td>57€</td>\n",
       "      <td>326€</td>\n",
       "    </tr>\n",
       "  </tbody>\n",
       "</table>\n",
       "</div>"
      ],
      "text/plain": [
       "  Data_Source Departure_city Arrival_city  Nb_bus_taken  Nb_train_taken  \\\n",
       "0    Rome2rio          Paris       Berlin             0               0   \n",
       "1    Rome2rio          Paris       Berlin             0               0   \n",
       "2    Rome2rio          Paris       Berlin             0               0   \n",
       "\n",
       "   Nb_car_taken  Nb_plane_taken  Duration Price_min Price_max  \n",
       "0             0               1       285      47€       224€  \n",
       "1             0               1       281      49€       277€  \n",
       "2             0               1       293      57€       326€  "
      ]
     },
     "execution_count": 12,
     "metadata": {},
     "output_type": "execute_result"
    }
   ],
   "source": [
    "appended_data.head(3)"
   ]
  },
  {
   "cell_type": "code",
   "execution_count": 9,
   "metadata": {},
   "outputs": [],
   "source": [
    "# The others we want to have in the final dataframe\n",
    "col_names = ['Date_Review', 'Review', 'Airline_Name', 'Airline_Type', 'Region_Operation', 'Aircraft_Type', 'Cabin_Class', 'Type_Of_Lounge',\n",
    "             'Type_Of_Traveller', 'Date_Visit', 'Date_Flown', 'Airport', 'Route', 'Category', 'Category_Detail',\n",
    "             'Cabin_Staff_Service', 'Lounge_Staff_Service', 'Bar_And_Beverages', 'Food_And_Beverages', 'Ground_Service', 'Catering', 'Cleanliness',\n",
    "             'Lounge_Comfort', 'Aisle_Space', 'Wifi_And_Connectivity', 'Inflight_Entertainment', 'Viewing_Tv_Screen', 'Power_Supply',\n",
    "             'Seat', 'Seat_type', 'Seat_Comfort', 'Seat_Legroom', 'Seat_Storage', 'Seat_Width', 'Seat_Recline', 'Washrooms',\n",
    "             'Value_For_Money', 'Overall_Customer_Rating', 'Overall_Service_Rating', 'Overall_Airline_Rating',\n",
    "             'Recommended', 'Title', 'Author', 'Description', 'Date_publication',\n",
    "             'View_count', 'Likes', 'Dislikes', 'Nb_subscribers', 'Nb_comments', 'Nb_sharing', 'Hashtags', 'Awards', 'Registration', 'Language']\n",
    "datafinal = pd.DataFrame(columns=col_names)"
   ]
  },
  {
   "cell_type": "code",
   "execution_count": 10,
   "metadata": {
    "scrolled": false
   },
   "outputs": [],
   "source": [
    "# Cocatenate to have all features\n",
    "rom2rio_ = pd.concat([appended_data, datafinal], sort=False)"
   ]
  },
  {
   "cell_type": "code",
   "execution_count": 11,
   "metadata": {},
   "outputs": [],
   "source": [
    "# Export the final result to json\n",
    "rom2rio = rom2rio_.to_json()\n",
    "with open('data_rom2rio.json', 'a', encoding='utf8') as outfile:\n",
    "    json.dump(rom2rio, outfile, ensure_ascii=False, indent=4)"
   ]
  },
  {
   "cell_type": "markdown",
   "metadata": {},
   "source": [
    "# Descriptive statistics on recovered data"
   ]
  },
  {
   "cell_type": "code",
   "execution_count": null,
   "metadata": {},
   "outputs": [],
   "source": []
  }
 ],
 "metadata": {
  "kernelspec": {
   "display_name": "Python 3",
   "language": "python",
   "name": "python3"
  },
  "language_info": {
   "codemirror_mode": {
    "name": "ipython",
    "version": 3
   },
   "file_extension": ".py",
   "mimetype": "text/x-python",
   "name": "python",
   "nbconvert_exporter": "python",
   "pygments_lexer": "ipython3",
   "version": "3.7.4"
  },
  "toc": {
   "base_numbering": 1,
   "nav_menu": {},
   "number_sections": true,
   "sideBar": true,
   "skip_h1_title": false,
   "title_cell": "Table of Contents",
   "title_sidebar": "Contents",
   "toc_cell": false,
   "toc_position": {},
   "toc_section_display": true,
   "toc_window_display": true
  }
 },
 "nbformat": 4,
 "nbformat_minor": 2
}
