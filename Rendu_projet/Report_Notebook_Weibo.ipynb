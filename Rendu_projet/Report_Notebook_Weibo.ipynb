{
 "cells": [
  {
   "cell_type": "markdown",
   "metadata": {},
   "source": [
    "<h1>Group 1 - Data Collection<span class=\"tocSkip\"></span>"
   ]
  },
  {
   "cell_type": "markdown",
   "metadata": {},
   "source": [
    "# Introduction"
   ]
  },
  {
   "cell_type": "markdown",
   "metadata": {},
   "source": [
    "One of the sources we need to scrap was the Weibo a chinese website. This notebook contains the code to retrieve the data, translate chinese to english and also the Robot to retrieve the data once a week.\n",
    "\n",
    "V0 : simple scraping and tags finding\n",
    "\n",
    "V1 : transform code into functions and getting dates of publication \n",
    "\n",
    "V2 : adding traduction\n",
    "\n",
    "V3 : fixing bugs\n",
    "\n",
    "V4: improving quality and fixing last bugs"
   ]
  },
  {
   "cell_type": "markdown",
   "metadata": {},
   "source": [
    "# Environment"
   ]
  },
  {
   "cell_type": "markdown",
   "metadata": {},
   "source": [
    "## Libraries"
   ]
  },
  {
   "cell_type": "code",
   "execution_count": 2,
   "metadata": {
    "scrolled": true
   },
   "outputs": [],
   "source": [
    "import urllib.request\n",
    "from bs4 import BeautifulSoup\n",
    "import json\n",
    "import os\n",
    "from urllib.request import Request, urlopen\n",
    "import re\n",
    "import numpy as np\n",
    "import datetime as dt\n",
    "from textblob import TextBlob\n",
    "import time\n",
    "import pandas as pd"
   ]
  },
  {
   "cell_type": "markdown",
   "metadata": {},
   "source": [
    "## Functions"
   ]
  },
  {
   "cell_type": "markdown",
   "metadata": {},
   "source": [
    "This part contains all the functions we developped during the project"
   ]
  },
  {
   "cell_type": "code",
   "execution_count": 2,
   "metadata": {},
   "outputs": [],
   "source": [
    "def textToDate(text: str):\n",
    "    \"\"\"Documentation    \n",
    "       Parameters:\n",
    "            text : character string     \n",
    "       out : \n",
    "            date of  the publication'    \n",
    "    \"\"\"\n",
    "\n",
    "    if \"今天\" in text:\n",
    "        return dt.date.today()\n",
    "    numbers_list = re.search(\"([0-9]*\\w)*\", text).group(0)\n",
    "    numbers_list = re.findall(r\"([0-9]+)\", numbers_list)\n",
    "    if len(numbers_list) == 3:\n",
    "        year = numbers_list[0]\n",
    "        month = numbers_list[1]\n",
    "        day = numbers_list[2]\n",
    "\n",
    "    elif len(numbers_list) == 2:\n",
    "        now = dt.date.today()\n",
    "        year = now.year\n",
    "        month = numbers_list[0]\n",
    "        day = numbers_list[1]\n",
    "    else:\n",
    "        return dt.date.today()\n",
    "    return dt.date(int(year), int(month), int(day))"
   ]
  },
  {
   "cell_type": "code",
   "execution_count": 3,
   "metadata": {},
   "outputs": [],
   "source": [
    "def getTextBetweenTags(texts: str, separator: str):\n",
    "    \"\"\" Retrieving code between two tags\n",
    "\n",
    "    Paramters:\n",
    "        texts = Part of soup\n",
    "        separator = Separator of soup\n",
    "    Outers:\n",
    "        description = Text wanted\n",
    "    \"\"\"\n",
    "    text_clean = []\n",
    "    lisI = []\n",
    "    lisS = []\n",
    "\n",
    "    for i in range(0, len(texts)):\n",
    "        if str(texts[i]) == \"<\":\n",
    "            lisI.append(i)\n",
    "        if texts[i] == '>':\n",
    "            lisS.append(i)\n",
    "\n",
    "        len_lis = len(lisI)\n",
    "    for h in range(0, len_lis):\n",
    "        if h < (len_lis-1):\n",
    "            text_clean.append(texts[lisS[h]:lisI[h+1]])\n",
    "\n",
    "    if separator != 'non':\n",
    "        description = str(text_clean).replace('>', '').replace(\n",
    "            ',', '').replace('\\'', '').replace('，', '')\n",
    "        description = description.split(separator)\n",
    "    else:\n",
    "        description = text_clean\n",
    "\n",
    "    return description"
   ]
  },
  {
   "cell_type": "code",
   "execution_count": 4,
   "metadata": {},
   "outputs": [],
   "source": [
    "def upgradeDf(publication_date, description: str, shares: str, comm: str, like: str, df=None):\n",
    "    \"\"\"Documentation\n",
    "\n",
    "       creation of the json file named weibo.json\n",
    "\n",
    "       Parameters:\n",
    "            publication_date : Date of the publication\n",
    "            description : publication description\n",
    "            shares : number or shares\n",
    "            comm : comment\n",
    "            like : number of likes\n",
    "\n",
    "    \"\"\"\n",
    "\n",
    "\n",
    "    name_col = ['Data_Source',\n",
    "                'Airline_Name',\n",
    "                'Airline_Type',\n",
    "                'Region_Operation',\n",
    "                'Aircraft_Type',\n",
    "                'Cabin_Class',\n",
    "                'Type_Of_Lounge',\n",
    "                'Type_Of_Traveller',\n",
    "                'Date_Visit',\n",
    "                'Date_Flown',\n",
    "                'Airport',\n",
    "                'Route',\n",
    "                'Category',\n",
    "                'Category_Detail',\n",
    "                'Cabin_Staff_Service',\n",
    "                'Lounge_Staff_Service',\n",
    "                'Bar_And_Beverages',\n",
    "                'Food_And_Beverages',\n",
    "                'Ground_Service',\n",
    "                'Catering',\n",
    "                'Cleanliness',\n",
    "                'Lounge_Comfort',\n",
    "                'Aisle_Space',\n",
    "                'Wifi_And_Connectivity',\n",
    "                'Inflight_Entertainment',\n",
    "                'Viewing_Tv_Screen',\n",
    "                'Power_Supply',\n",
    "                'Seat',\n",
    "                'Seat_type',\n",
    "                'Seat_Comfort',\n",
    "                'Seat_Legroom',\n",
    "                'Seat_Storage',\n",
    "                'Seat_Width',\n",
    "                'Seat_Recline', \n",
    "                'Washrooms',\n",
    "                'Value_For_Money',\n",
    "                'Overall_Customer_Rating',\n",
    "                'Overall_Service_Rating',\n",
    "                'Overall_Airline_Rating', \n",
    "                'Recommended', \n",
    "                'Date_Review', \n",
    "                'Review',\n",
    "                'Departure_city',\n",
    "                'Arrival_city', \n",
    "                'Nb_bus_taken', \n",
    "                'Nb_train_taken',\n",
    "                'Nb_car_taken', \n",
    "                'Nb_plane_taken', \n",
    "                'Duration',\n",
    "                'Price_min',\n",
    "                'Price_max', \n",
    "                'Title',\n",
    "                'Author', \n",
    "                'Description',\n",
    "                'Date_publication', \n",
    "                'View_Count',\n",
    "                'Likes',\n",
    "                'Dislikes', \n",
    "                'Nb_subscribers',\n",
    "                'Nb_comments',\n",
    "                'Nb_sharing',\n",
    "                'Hashtags',\n",
    "                'Awards',\n",
    "                'Registration',\n",
    "                'Location',\n",
    "                'Contributions_Pers',\n",
    "                'Nb_pertinent_comments_Pers',\n",
    "                'Queuing_Times', \n",
    "                'Terminal_Seating', \n",
    "                'Terminal_Signs', \n",
    "                'Airport_Shopping',\n",
    "                'Experience_At_Airport']\n",
    "\n",
    "    detailVideos = {}\n",
    "\n",
    "    for i in name_col:\n",
    "        detailVideos[i] = None\n",
    "\n",
    "    if len(shares.replace(' ', '')) == 0:\n",
    "        shares = '0'\n",
    "    detailVideos['Data_Source'] = \"Weibo\"\n",
    "    detailVideos['Description'] = translate(description)\n",
    "    detailVideos['Nb_sharing'] = int(shares)\n",
    "    detailVideos['Likes'] = int(like)\n",
    "    detailVideos['Date_publication'] = str(publication_date)\n",
    "    detailVideos['Nb_comments'] = int(comm)\n",
    "\n",
    "    if df is None:\n",
    "        df = pd.DataFrame(columns=list(detailVideos.keys()))\n",
    "        df.loc[0, :] = list(detailVideos.values())\n",
    "    else:\n",
    "        df.loc[df.shape[0]+1, :] = list(detailVideos.values())\n",
    "    return df"
   ]
  },
  {
   "cell_type": "code",
   "execution_count": 5,
   "metadata": {},
   "outputs": [],
   "source": [
    "def translate(text):\n",
    "    \"\"\"Documentation    \n",
    "       Parameters:\n",
    "            text : character string     \n",
    "       out : \n",
    "            text : text translated in english     \n",
    "    \"\"\"\n",
    "    try:\n",
    "        new = str(TextBlob(text).translate(to='en'))\n",
    "        return new\n",
    "    except:\n",
    "        return text\n",
    "\n",
    "\n",
    "def replace_all(text, dic):\n",
    "    \"\"\"Documentation    \n",
    "       Parameters:\n",
    "            text : character string\n",
    "            dic  : dictionnary structured as (textToReplace : newText)\n",
    "       out : \n",
    "            text : original text with string replacement as defined in the dictionnary  \n",
    "    \"\"\"\n",
    "    for i, j in dic.items():\n",
    "        text = text.replace(i, j)\n",
    "    return text"
   ]
  },
  {
   "cell_type": "markdown",
   "metadata": {},
   "source": [
    "# Crawl"
   ]
  },
  {
   "cell_type": "code",
   "execution_count": 6,
   "metadata": {},
   "outputs": [],
   "source": [
    "# Get the lists of equation\n",
    "\n",
    "AirCompanies = [\"American Airlines\", \"Air Canada\", \"Air France\", \"Air Algerie\", \"Air India\", \"Aerolineas Argentinas\", \"Royal Air Maroc\", \"Finnair\", \"Alitalia \", \" Nouvelair\", \"Air China\", \"Cathay Pacific\", \"Delta Airlines\", \"Aer Lingus\", \"Emirates\", \"Ethiopian Airlines\", \"Icelandair\", \"Hawaiian Airlines\", \"Iberia\", \"Meridiana\", \"Japan Airlines\", \"KLM\", \"Air Malta\", \"Lan Airlines\", \"Luxair\", \"LIAT\", \"LOT Polish Airlines\", \"Air Madagascar\", \"Air Mauritius\", \"Austrian Airlines\", \"Qatar Airways\", \"South African Airways\", \"SAS Scandinavian Airlines\", \"Brussels Airlines\",\n",
    "                \"Singapore Airlines\", \"Corsair\", \"Aeroflot\", \"Thai Airways\", \"Turkish Airlines\", \"TAP Portugal\", \"Air Transat\", \"Tunisair\", \"Air Caraibes\", \"United Airlines\", \"Air Austral\", \"Air Europa\", \"Easyjet\", \"Vietnam Airlines\", \"Virgin Atlantic\", \"Air Corsica\", \"Condor\", \"Flybe\", \"Aegean Airlines\", \"Air Tahiti Nui\", \"Aigle Azur\", \"HOP!\", \"Jet Airways\", \"Etihad Airways\", \"Etihad Airways\", \"Oman Air\", \"XL Airways\", \"Ryanair LTD\", \"Vueling \", \"Norwegian\", \"Transavia France\", \"Germanwings\", \"TUI Fly Belgium\", \"Air Arabia\", \"WOW air\", \"Wizz Air\", \"Air Asia\", \"Volotea\", \"southwest airlines\"]\n",
    "BoeingModel = [\"Boeing 717\", \"Boeing 727\", \"Boeing 737-200\", \"Boeing 737-300\", \"Boeing 737-400\", \"Boeing 737-500\", \"Boeing 737-600\", \"Boeing 737-700\", \"Boeing 737-700ER\", \"Boeing 737-800\", \"Boeing 737-900\", \"Boeing 737-900ER\", \"Boeing 737 MAX 7\",\n",
    "               \"Boeing 737 MAX 8\", \"Boeing 737 MAX 9\", \"Boeing 737 MAX 10\", \"Boeing 747-200\", \"Boeing 747-400\", \"Boeing 757-200\", \"Boeing 757-300\", \"Boeing 767-200\", \"Boeing 767-300\", \"Boeing 767-300ER\", \"Boeing 767-400ER\", \"Boeing 777 Triple Seven\", \"Boeing 787 DreamLiner\"]\n",
    "AirbusModel = [\"A300\", \"A300-600ST\", \"A318\", \"A319\", \"A320-100\", \"A320-200\", \"A320neo\", \"A321-100\", \"A321-200\", \"A330-200\",\n",
    "               \"A330-300\", \"A330-200F\", \"A330-500\", \"A340-200\", \"A340-300\", \"A340-500\", \"A340-600\", \"A350-900\", \"A350-1000\", \"A380-800\", \"A220-300\"]\n",
    "motsCles = [\"trip\", \"fly\", \"plane\", \"airplane\", \"flight\"]\n",
    "\n",
    "url_list = []\n",
    "for companie in AirCompanies:\n",
    "    for model in AirbusModel:\n",
    "        url_list.append('https://s.weibo.com/weibo/'+companie+'%2520'+model)\n",
    "    for model in BoeingModel:\n",
    "        url_list.append('https://s.weibo.com/weibo/'+companie+'%2520'+model)"
   ]
  },
  {
   "cell_type": "code",
   "execution_count": 7,
   "metadata": {
    "scrolled": true
   },
   "outputs": [
    {
     "name": "stdout",
     "output_type": "stream",
     "text": [
      "https://s.weibo.com/weibo/American%20Airlines%2520A300  complete\n",
      "https://s.weibo.com/weibo/American%20Airlines%2520A300-600ST  complete\n",
      "Every url completed\n"
     ]
    }
   ],
   "source": [
    "# nb days to filter:\n",
    "nb_day = 7\n",
    "# in exemple : nb_day = 7 gives you only post that have been written this week\n",
    "\n",
    "with open('weibo.json', 'w', encoding='utf8') as outfile:\n",
    "    json\n",
    "\n",
    "df = None\n",
    "\n",
    "for url in url_list:\n",
    "    url = url.replace(' ', '%20')\n",
    "    req = Request(url, headers={'User-Agent': 'Mozilla/5.0'})\n",
    "    web_page = urlopen(req).read()\n",
    "    soup = BeautifulSoup(web_page, 'html.parser')\n",
    "    counter = 0\n",
    "\n",
    "    #     description\n",
    "\n",
    "    texte = str(soup.findAll('p', attrs={'node-type': 'feed_list_content'}))\n",
    "    description = getTextBetweenTags(texte, '\\\\n')\n",
    "    del description[0]\n",
    "\n",
    "    # like / share, comment / description\n",
    "    like_list = []\n",
    "    share_list = []\n",
    "    comment_list = []\n",
    "    for span in soup.findAll('a', attrs={'title': \"赞\"}):\n",
    "        text = span.text.strip()\n",
    "        if len(text.replace(' ', '')) == 0:\n",
    "            text = '0'\n",
    "        like_list.append(text)\n",
    "    share = []\n",
    "    comment = []\n",
    "    for span in soup.findAll('a'):\n",
    "\n",
    "        text = span.text.strip()\n",
    "\n",
    "        # get number of comments\n",
    "        if text.startswith('转发'):\n",
    "            if len(text[3:]) == 0:\n",
    "                comment_list.append('0')\n",
    "            else:\n",
    "                comment_list.append(text[3:])\n",
    "\n",
    "        # get number of share\n",
    "        if text.startswith('评论'):\n",
    "            if len(text[3:]) == 0:\n",
    "                share_list.append('0')\n",
    "            else:\n",
    "                share_list.append(text[3:])\n",
    "    # add publication stat in json if publication is \"new\"\n",
    "    for span1 in soup.findAll('p', attrs={'class': 'from'}):\n",
    "        for span in span1.findAll('a', attrs={'target': '_blank'}):\n",
    "            if str(textToDate(span.text.strip())) >= str((dt.date.today() - dt.timedelta(days=(nb_day)))):\n",
    "                df = upgradeDf(textToDate(span.text.strip(\n",
    "                )), description[counter], share_list[counter], comment_list\n",
    "                    [counter], like_list[counter], df=df)\n",
    "            counter += 1\n",
    "    print(url, ' complete')\n",
    "df.to_json(\"dataWeibo.json\",orient =\"index\",force_ascii =False)\n",
    "print('Every url completed')"
   ]
  },
  {
   "cell_type": "code",
   "execution_count": 24,
   "metadata": {},
   "outputs": [],
   "source": [
    "import matplotlib.pyplot as plt"
   ]
  },
  {
   "cell_type": "code",
   "execution_count": 67,
   "metadata": {},
   "outputs": [],
   "source": [
    "resultat=pd.read_json(\"data_Weibo_sample.json\",orient=\"index\")"
   ]
  },
  {
   "cell_type": "code",
   "execution_count": 14,
   "metadata": {},
   "outputs": [],
   "source": [
    "list_col=['Data_Source','Description','Nb_sharing','Likes','Date_publication','Nb_comments']"
   ]
  },
  {
   "cell_type": "code",
   "execution_count": 15,
   "metadata": {},
   "outputs": [
    {
     "data": {
      "text/html": [
       "<div>\n",
       "<style scoped>\n",
       "    .dataframe tbody tr th:only-of-type {\n",
       "        vertical-align: middle;\n",
       "    }\n",
       "\n",
       "    .dataframe tbody tr th {\n",
       "        vertical-align: top;\n",
       "    }\n",
       "\n",
       "    .dataframe thead th {\n",
       "        text-align: right;\n",
       "    }\n",
       "</style>\n",
       "<table border=\"1\" class=\"dataframe\">\n",
       "  <thead>\n",
       "    <tr style=\"text-align: right;\">\n",
       "      <th></th>\n",
       "      <th>Nb_sharing</th>\n",
       "      <th>Likes</th>\n",
       "      <th>Nb_comments</th>\n",
       "    </tr>\n",
       "  </thead>\n",
       "  <tbody>\n",
       "    <tr>\n",
       "      <th>count</th>\n",
       "      <td>134.000000</td>\n",
       "      <td>134.000000</td>\n",
       "      <td>134.000000</td>\n",
       "    </tr>\n",
       "    <tr>\n",
       "      <th>mean</th>\n",
       "      <td>4129.507463</td>\n",
       "      <td>39414.910448</td>\n",
       "      <td>14522.723881</td>\n",
       "    </tr>\n",
       "    <tr>\n",
       "      <th>std</th>\n",
       "      <td>9444.654774</td>\n",
       "      <td>104431.233051</td>\n",
       "      <td>38024.260043</td>\n",
       "    </tr>\n",
       "    <tr>\n",
       "      <th>min</th>\n",
       "      <td>0.000000</td>\n",
       "      <td>0.000000</td>\n",
       "      <td>0.000000</td>\n",
       "    </tr>\n",
       "    <tr>\n",
       "      <th>25%</th>\n",
       "      <td>28.000000</td>\n",
       "      <td>4086.500000</td>\n",
       "      <td>12.000000</td>\n",
       "    </tr>\n",
       "    <tr>\n",
       "      <th>50%</th>\n",
       "      <td>201.500000</td>\n",
       "      <td>8018.000000</td>\n",
       "      <td>109.000000</td>\n",
       "    </tr>\n",
       "    <tr>\n",
       "      <th>75%</th>\n",
       "      <td>1261.750000</td>\n",
       "      <td>17343.000000</td>\n",
       "      <td>1155.750000</td>\n",
       "    </tr>\n",
       "    <tr>\n",
       "      <th>max</th>\n",
       "      <td>49297.000000</td>\n",
       "      <td>598502.000000</td>\n",
       "      <td>171866.000000</td>\n",
       "    </tr>\n",
       "  </tbody>\n",
       "</table>\n",
       "</div>"
      ],
      "text/plain": [
       "         Nb_sharing          Likes    Nb_comments\n",
       "count    134.000000     134.000000     134.000000\n",
       "mean    4129.507463   39414.910448   14522.723881\n",
       "std     9444.654774  104431.233051   38024.260043\n",
       "min        0.000000       0.000000       0.000000\n",
       "25%       28.000000    4086.500000      12.000000\n",
       "50%      201.500000    8018.000000     109.000000\n",
       "75%     1261.750000   17343.000000    1155.750000\n",
       "max    49297.000000  598502.000000  171866.000000"
      ]
     },
     "execution_count": 15,
     "metadata": {},
     "output_type": "execute_result"
    }
   ],
   "source": [
    "resultat[list_col].describe()"
   ]
  },
  {
   "cell_type": "code",
   "execution_count": 16,
   "metadata": {},
   "outputs": [
    {
     "data": {
      "text/html": [
       "<div>\n",
       "<style scoped>\n",
       "    .dataframe tbody tr th:only-of-type {\n",
       "        vertical-align: middle;\n",
       "    }\n",
       "\n",
       "    .dataframe tbody tr th {\n",
       "        vertical-align: top;\n",
       "    }\n",
       "\n",
       "    .dataframe thead th {\n",
       "        text-align: right;\n",
       "    }\n",
       "</style>\n",
       "<table border=\"1\" class=\"dataframe\">\n",
       "  <thead>\n",
       "    <tr style=\"text-align: right;\">\n",
       "      <th></th>\n",
       "      <th>Data_Source</th>\n",
       "      <th>Description</th>\n",
       "      <th>Nb_sharing</th>\n",
       "      <th>Likes</th>\n",
       "      <th>Date_publication</th>\n",
       "      <th>Nb_comments</th>\n",
       "    </tr>\n",
       "  </thead>\n",
       "  <tbody>\n",
       "    <tr>\n",
       "      <th>0</th>\n",
       "      <td>Weibo</td>\n",
       "      <td>Wufu Xianrui welcomes the Chinese New Year Gen...</td>\n",
       "      <td>124</td>\n",
       "      <td>1167</td>\n",
       "      <td>2020-01-17</td>\n",
       "      <td>126</td>\n",
       "    </tr>\n",
       "    <tr>\n",
       "      <th>10</th>\n",
       "      <td>Weibo</td>\n",
       "      <td># å·¥ ä¿¡ éƒ¨ çº¦è°ˆ å°�ç±³ ç­‰ 3enterprise # ...</td>\n",
       "      <td>75</td>\n",
       "      <td>8199</td>\n",
       "      <td>2020-01-17</td>\n",
       "      <td>20</td>\n",
       "    </tr>\n",
       "    <tr>\n",
       "      <th>100</th>\n",
       "      <td>Weibo</td>\n",
       "      <td># ç©¿ Cheongpao's girl have more beauty # Who ...</td>\n",
       "      <td>66</td>\n",
       "      <td>6835</td>\n",
       "      <td>2020-01-17</td>\n",
       "      <td>14</td>\n",
       "    </tr>\n",
       "    <tr>\n",
       "      <th>101</th>\n",
       "      <td>Weibo</td>\n",
       "      <td># çŽ‹ä¸€å�š å¯¹ å…”å­� è¡¨ç™½ # # çŽ‹ä¸€å�š æ·...</td>\n",
       "      <td>569</td>\n",
       "      <td>2157</td>\n",
       "      <td>2020-01-17</td>\n",
       "      <td>475</td>\n",
       "    </tr>\n",
       "    <tr>\n",
       "      <th>102</th>\n",
       "      <td>Weibo</td>\n",
       "      <td>Wufu Xianrui welcomes the Chinese New Year Gen...</td>\n",
       "      <td>125</td>\n",
       "      <td>1173</td>\n",
       "      <td>2020-01-17</td>\n",
       "      <td>126</td>\n",
       "    </tr>\n",
       "    <tr>\n",
       "      <th>...</th>\n",
       "      <td>...</td>\n",
       "      <td>...</td>\n",
       "      <td>...</td>\n",
       "      <td>...</td>\n",
       "      <td>...</td>\n",
       "      <td>...</td>\n",
       "    </tr>\n",
       "    <tr>\n",
       "      <th>95</th>\n",
       "      <td>Weibo</td>\n",
       "      <td># éš�æ‰‹ é—® ä¸€ é¢˜ # What does the high-freq...</td>\n",
       "      <td>28</td>\n",
       "      <td>11534</td>\n",
       "      <td>2020-01-17</td>\n",
       "      <td>23</td>\n",
       "    </tr>\n",
       "    <tr>\n",
       "      <th>96</th>\n",
       "      <td>Weibo</td>\n",
       "      <td>How to pronounce \"èŽ \" in the small survey idi...</td>\n",
       "      <td>18</td>\n",
       "      <td>16767</td>\n",
       "      <td>2020-01-17</td>\n",
       "      <td>11</td>\n",
       "    </tr>\n",
       "    <tr>\n",
       "      <th>97</th>\n",
       "      <td>Weibo</td>\n",
       "      <td>The market is green! What do you thank \\ u200b]</td>\n",
       "      <td>511</td>\n",
       "      <td>7592</td>\n",
       "      <td>2020-01-17</td>\n",
       "      <td>8</td>\n",
       "    </tr>\n",
       "    <tr>\n",
       "      <th>98</th>\n",
       "      <td>Weibo</td>\n",
       "      <td>Reg: N874AA/ American   Ai...</td>\n",
       "      <td>0</td>\n",
       "      <td>1</td>\n",
       "      <td>2015-04-25</td>\n",
       "      <td>0</td>\n",
       "    </tr>\n",
       "    <tr>\n",
       "      <th>99</th>\n",
       "      <td>Weibo</td>\n",
       "      <td>Inflight200 8æœˆä»½æ–°å“� ...</td>\n",
       "      <td>0</td>\n",
       "      <td>0</td>\n",
       "      <td>2012-07-17</td>\n",
       "      <td>0</td>\n",
       "    </tr>\n",
       "  </tbody>\n",
       "</table>\n",
       "<p>134 rows × 6 columns</p>\n",
       "</div>"
      ],
      "text/plain": [
       "    Data_Source                                        Description  \\\n",
       "0         Weibo  Wufu Xianrui welcomes the Chinese New Year Gen...   \n",
       "10        Weibo  # å·¥ ä¿¡ éƒ¨ çº¦è°ˆ å°�ç±³ ç­‰ 3enterprise # ...   \n",
       "100       Weibo  # ç©¿ Cheongpao's girl have more beauty # Who ...   \n",
       "101       Weibo  # çŽ‹ä¸€å�š å¯¹ å…”å­� è¡¨ç™½ # # çŽ‹ä¸€å�š æ·...   \n",
       "102       Weibo  Wufu Xianrui welcomes the Chinese New Year Gen...   \n",
       "..          ...                                                ...   \n",
       "95        Weibo  # éš�æ‰‹ é—® ä¸€ é¢˜ # What does the high-freq...   \n",
       "96        Weibo  How to pronounce \"èŽ \" in the small survey idi...   \n",
       "97        Weibo    The market is green! What do you thank \\ u200b]   \n",
       "98        Weibo                      Reg: N874AA/ American   Ai...   \n",
       "99        Weibo                      Inflight200 8æœˆä»½æ–°å“� ...   \n",
       "\n",
       "     Nb_sharing  Likes Date_publication  Nb_comments  \n",
       "0           124   1167       2020-01-17          126  \n",
       "10           75   8199       2020-01-17           20  \n",
       "100          66   6835       2020-01-17           14  \n",
       "101         569   2157       2020-01-17          475  \n",
       "102         125   1173       2020-01-17          126  \n",
       "..          ...    ...              ...          ...  \n",
       "95           28  11534       2020-01-17           23  \n",
       "96           18  16767       2020-01-17           11  \n",
       "97          511   7592       2020-01-17            8  \n",
       "98            0      1       2015-04-25            0  \n",
       "99            0      0       2012-07-17            0  \n",
       "\n",
       "[134 rows x 6 columns]"
      ]
     },
     "execution_count": 16,
     "metadata": {},
     "output_type": "execute_result"
    }
   ],
   "source": [
    "resultat[list_col]"
   ]
  },
  {
   "cell_type": "code",
   "execution_count": 78,
   "metadata": {},
   "outputs": [
    {
     "data": {
      "image/png": "iVBORw0KGgoAAAANSUhEUgAAAXsAAABdCAYAAABEvMaUAAAABHNCSVQICAgIfAhkiAAAAAlwSFlzAAALEgAACxIB0t1+/AAAADh0RVh0U29mdHdhcmUAbWF0cGxvdGxpYiB2ZXJzaW9uMy4xLjEsIGh0dHA6Ly9tYXRwbG90bGliLm9yZy8QZhcZAAAKK0lEQVR4nO3de6wcZRnH8e+PljvEtrQ0DRBOa2qwFcVaEQJRghigEFCQSENiRbRBIN6jReKF+E+LwdQGFDAhhUQuJaA0pQSaBhWDFlopUC6HllKlaaUQAgRFIvD4xzwH9pxuT89tO2f3/X2Szcw8MzvzPntmn7M7M/uOIgIzM+tse9XdADMzaz0XezOzArjYm5kVwMXezKwALvZmZgVwsTczK8DYuhsAMHHixOjq6qq7GWZmbWXdunUvR8SkgSw7Kop9V1cXa9eurbsZZmZtRdI/BrrsqCj2w9G14J7atr1l4Rm1bdvMbDB8zN7MrAC7LfaSbpS0Q9KGhtgESaskbczh+IxL0hJJmyQ9LmlWKxtvZmYDM5BP9kuB0/rEFgCrI2I6sDqnAU4HpudjPvCbkWmmmZkNx26LfUT8GXilT/hs4KYcvwn4fEP85qj8DRgnacpINdbMzIZmqMfsJ0fEdoAcHprxw4AXGpbbmrGdSJovaa2ktS+99NIQm2FmZgMx0ido1STWtA/liLghImZHxOxJkwZ0maiZmQ3RUIv9iz2HZ3K4I+NbgSMaljsc2Db05pmZ2UgYarFfDszL8XnA3Q3xL+dVOccBr/Uc7jEzs/rs9kdVkm4FTgImStoK/BRYCCyTdBHwT+C8XHwlMAfYBPwHuLAFbTYzs0HabbGPiLm7mPXZJssGcOlwG2VmZiPLv6A1MyuAi72ZWQFc7M3MCuBib2ZWABd7M7MCuNibmRXAxd7MrAAu9mZmBXCxNzMrgIu9mVkBXOzNzArgYm9mVgAXezOzArjYm5kVwMXezKwALvZmZgVwsTczK4CLvZlZAVzszcwK4GJvZlYAF3szswK42JuZFcDF3sysAC72ZmYFcLE3MyuAi72ZWQFc7M3MCuBib2ZWABd7M7MCuNibmRWgJcVe0mmSuiVtkrSgFdswM7OBG/FiL2kMcC1wOjADmCtpxkhvx8zMBm5sC9Z5LLApIjYDSLoNOBt4qgXbsj2sa8E9tWx3y8IzatluXflCfTlbZ2pFsT8MeKFheivwqRZsp3alFb461Vl0S1PiP7gScm5FsVeTWOy0kDQfmJ+Tb0jqHuL2JgIvD/G5bUmLgALzTsXknX/nHkXk7ZyBweV95EC304pivxU4omH6cGBb34Ui4gbghuFuTNLaiJg93PW0G+ddlhLzLjFnaF3erbga5xFguqSpkvYBzgeWt2A7ZmY2QCP+yT4i3pZ0GXAfMAa4MSKeHOntmJnZwLXiMA4RsRJY2Yp1NzHsQ0FtynmXpcS8S8wZWpS3InY6d2pmZh3G3SWYmRWgrYt9u3fLIOlGSTskbWiITZC0StLGHI7PuCQtyVwflzSr4TnzcvmNkuY1xD8h6Yl8zhJJzS6L3eMkHSHpAUlPS3pS0rcy3tG5S9pP0sOSHsu8r8z4VElrMofb88IGJO2b05tyflfDui7PeLekUxvio/I9IWmMpEclrcjpEnLekvvgeklrM1bfPh4RbfmgOvn7HDAN2Ad4DJhRd7sGmcOngVnAhobYVcCCHF8ALMrxOcC9VL9jOA5Yk/EJwOYcjs/x8TnvYeD4fM69wOl155ztmgLMyvGDgWeputbo6NyzLQfl+N7AmsxnGXB+xq8DvpHjlwDX5fj5wO05PiP3932Bqfk+GDOa3xPAd4FbgBU5XULOW4CJfWK17eO1vyDDeCGPB+5rmL4cuLzudg0hjy56F/tuYEqOTwG6c/x6YG7f5YC5wPUN8eszNgV4piHea7nR9ADuBj5XUu7AAcDfqX5d/jIwNuPv7ddUV7Qdn+Njczn13dd7lhut7wmq39qsBk4GVmQOHZ1ztmULOxf72vbxdj6M06xbhsNqastImhwR2wFyeGjGd5Vvf/GtTeKjSn5N/zjVp9yOzz0PZ6wHdgCrqD6VvhoRb+cijW19L7+c/xpwCIN/Peq2GPgB8G5OH0Ln5wxVzwH3S1qnqscAqHEfb8mll3vIgLpl6CC7ynew8VFD0kHAncC3I+L1fg45dkzuEfEOcIykccDvgQ83WyyHg82v2Ye3WvOWdCawIyLWSTqpJ9xk0Y7JucEJEbFN0qHAKknP9LNsy/fxdv5kP6BuGdrQi5KmAORwR8Z3lW9/8cObxEcFSXtTFfrfRcRdGS4id4CIeBX4I9Xx2XGSej54Nbb1vfxy/geAVxj861GnE4CzJG0BbqM6lLOYzs4ZgIjYlsMdVP/Yj6XOfbzu41rDOB42lupkxVTePzEzs+52DSGPLnofs/8FvU/gXJXjZ9D7BM7DGZ8APE918mZ8jk/IeY/ksj0ncObUnW+2S8DNwOI+8Y7OHZgEjMvx/YEHgTOBO+h9svKSHL+U3icrl+X4THqfrNxMdaJyVL8ngJN4/wRtR+cMHAgc3DD+EHBanft47TvAMF/QOVRXcjwHXFF3e4bQ/luB7cD/qP5TX0R1fHI1sDGHPX9YUd0U5jngCWB2w3q+CmzKx4UN8dnAhnzONeSP6Op+ACdSfeV8HFifjzmdnjvwUeDRzHsD8JOMT6O6smJTFsF9M75fTm/K+dMa1nVF5tZNw1UYo/k9Qe9i39E5Z36P5ePJnnbVuY/7F7RmZgVo52P2ZmY2QC72ZmYFcLE3MyuAi72ZWQFc7M3MCuBib2ZWABd7azuSQtLVDdPfl/SzHF8q6YvDWHeXGrqcHuI6zhpNXe2agYu9tae3gHMkTay7IX1JGhsRyyNiYd1tMWvkYm/t6G2q+3R+ZxfzT5H0oKRnsyOupiTNzJuJrM8bRkzPWWMk/TZvMHK/pP1z+a9LeiRvPnKnpAMyvlTSLyU9ACyS9BVJ1zTMWyLpIUmbe751SNpL0q9zGyskrRzONxKz3XGxt3Z1LXCBpA80mdcFfIaqv5HrJO23i3VcDPwqIo6h+ul5T5ex04FrI2Im8CpwbsbviohPRsTHgKepurfo8SHglIj4XpPtTKHqIuJMoOcT/znZzqOBr1H1y27WMi721pYi4nWqztS+2WT2soh4NyI2UnWSddQuVvNX4EeSfggcGRFvZvz5iFif4+uoijLAR/IbwxPABVSdc/W4I6rui5v5Q7bnKWByxk7M57wbEf8CHug3YbNhcrG3draY6tP1gX3ifTt8atoBVETcApwFvAncJ+nknPVWw2Lv8P59H5YCl0XE0cCVVJ129fh3P+1sXJ/6DM32CBd7a1sR8QrVvUwv6jPrvDwm/kGq3ge7mz1f0jRgc0QsAZZT9UrZn4OB7dkX/wXDajz8BTg32zmZqkdIs5Zxsbd2dzXQ96qcbuBPVH18XxwR/93Fc78EbMjbBB5FdVioPz+mun3iKqC/uw4NxJ1U5wg2UN1XdA3VLfjMWsJdHJvVRNJBEfGGpEOo+m4/IY/fm424dr4HrVm7W5H3ot0H+LkLvbWSP9lbx5N0KrCoT/j5iPhCHe0xq4OLvZlZAXyC1sysAC72ZmYFcLE3MyuAi72ZWQFc7M3MCvB/57iWFSH5nKsAAAAASUVORK5CYII=\n",
      "text/plain": [
       "<Figure size 432x288 with 1 Axes>"
      ]
     },
     "metadata": {
      "needs_background": "light"
     },
     "output_type": "display_data"
    },
    {
     "data": {
      "image/png": "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\n",
      "text/plain": [
       "<Figure size 432x288 with 1 Axes>"
      ]
     },
     "metadata": {
      "needs_background": "light"
     },
     "output_type": "display_data"
    },
    {
     "data": {
      "image/png": "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\n",
      "text/plain": [
       "<Figure size 432x288 with 1 Axes>"
      ]
     },
     "metadata": {
      "needs_background": "light"
     },
     "output_type": "display_data"
    },
    {
     "data": {
      "image/png": "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\n",
      "text/plain": [
       "<Figure size 432x288 with 1 Axes>"
      ]
     },
     "metadata": {
      "needs_background": "light"
     },
     "output_type": "display_data"
    }
   ],
   "source": [
    "fig=plt.figure()\n",
    "col=['Nb_sharing','Likes','Nb_comments','len_publication']\n",
    "for i in range(4):\n",
    "    fig.add_subplot(4, 1, i+1)\n",
    "    t=plt.hist(resultat[col[i]])\n",
    "    plt.xlabel(col[i])\n",
    "    plt.show()"
   ]
  },
  {
   "cell_type": "code",
   "execution_count": 68,
   "metadata": {},
   "outputs": [],
   "source": [
    "resultat[\"len_publication\"]=[len(value) for value in resultat['Description']]"
   ]
  },
  {
   "cell_type": "code",
   "execution_count": 58,
   "metadata": {},
   "outputs": [
    {
     "data": {
      "text/plain": [
       "[117,\n",
       " 458,\n",
       " 95,\n",
       " 143,\n",
       " 117,\n",
       " 304,\n",
       " 358,\n",
       " 46,\n",
       " 147,\n",
       " 109,\n",
       " 111,\n",
       " 36,\n",
       " 145,\n",
       " 120,\n",
       " 352,\n",
       " 55,\n",
       " 286,\n",
       " 110,\n",
       " 120,\n",
       " 352,\n",
       " 467,\n",
       " 153,\n",
       " 36,\n",
       " 95,\n",
       " 111,\n",
       " 120,\n",
       " 147,\n",
       " 467,\n",
       " 36,\n",
       " 120,\n",
       " 286,\n",
       " 109,\n",
       " 55,\n",
       " 353,\n",
       " 304,\n",
       " 109,\n",
       " 153,\n",
       " 46,\n",
       " 120,\n",
       " 36,\n",
       " 117,\n",
       " 358,\n",
       " 522,\n",
       " 129,\n",
       " 496,\n",
       " 189,\n",
       " 95,\n",
       " 110,\n",
       " 82,\n",
       " 276,\n",
       " 120,\n",
       " 46,\n",
       " 469,\n",
       " 117,\n",
       " 98,\n",
       " 100,\n",
       " 46,\n",
       " 132,\n",
       " 109,\n",
       " 147,\n",
       " 121,\n",
       " 440,\n",
       " 323,\n",
       " 120,\n",
       " 352,\n",
       " 46,\n",
       " 286,\n",
       " 98,\n",
       " 122,\n",
       " 101,\n",
       " 132,\n",
       " 134,\n",
       " 46,\n",
       " 153,\n",
       " 109,\n",
       " 117,\n",
       " 353,\n",
       " 132,\n",
       " 304,\n",
       " 146,\n",
       " 95,\n",
       " 143,\n",
       " 458,\n",
       " 352,\n",
       " 117,\n",
       " 147,\n",
       " 109,\n",
       " 98,\n",
       " 46,\n",
       " 100,\n",
       " 367,\n",
       " 120,\n",
       " 352,\n",
       " 475,\n",
       " 95,\n",
       " 12,\n",
       " 304,\n",
       " 206,\n",
       " 123,\n",
       " 153,\n",
       " 147,\n",
       " 143,\n",
       " 46,\n",
       " 352,\n",
       " 287,\n",
       " 122,\n",
       " 117,\n",
       " 367,\n",
       " 143,\n",
       " 305,\n",
       " 147,\n",
       " 109,\n",
       " 12,\n",
       " 469,\n",
       " 46,\n",
       " 118,\n",
       " 132,\n",
       " 457,\n",
       " 143,\n",
       " 117,\n",
       " 13,\n",
       " 153,\n",
       " 117,\n",
       " 122,\n",
       " 469,\n",
       " 120,\n",
       " 110,\n",
       " 153,\n",
       " 109,\n",
       " 111,\n",
       " 120,\n",
       " 47,\n",
       " 218,\n",
       " 320]"
      ]
     },
     "execution_count": 58,
     "metadata": {},
     "output_type": "execute_result"
    }
   ],
   "source": [
    "len_com"
   ]
  },
  {
   "cell_type": "code",
   "execution_count": 59,
   "metadata": {},
   "outputs": [
    {
     "data": {
      "image/png": "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\n",
      "text/plain": [
       "<Figure size 432x288 with 1 Axes>"
      ]
     },
     "metadata": {
      "needs_background": "light"
     },
     "output_type": "display_data"
    }
   ],
   "source": [
    "h=plt.hist(len_com)"
   ]
  },
  {
   "cell_type": "code",
   "execution_count": 60,
   "metadata": {},
   "outputs": [
    {
     "data": {
      "text/plain": [
       "522"
      ]
     },
     "execution_count": 60,
     "metadata": {},
     "output_type": "execute_result"
    }
   ],
   "source": [
    "max(len_com)"
   ]
  },
  {
   "cell_type": "code",
   "execution_count": 61,
   "metadata": {},
   "outputs": [
    {
     "data": {
      "text/plain": [
       "12"
      ]
     },
     "execution_count": 61,
     "metadata": {},
     "output_type": "execute_result"
    }
   ],
   "source": [
    "min(len_com)"
   ]
  },
  {
   "cell_type": "code",
   "execution_count": 69,
   "metadata": {},
   "outputs": [],
   "source": [
    "list_col=['Data_Source','Description','Nb_sharing','Likes','Date_publication','Nb_comments','len_publication']"
   ]
  },
  {
   "cell_type": "code",
   "execution_count": 70,
   "metadata": {},
   "outputs": [
    {
     "data": {
      "text/html": [
       "<div>\n",
       "<style scoped>\n",
       "    .dataframe tbody tr th:only-of-type {\n",
       "        vertical-align: middle;\n",
       "    }\n",
       "\n",
       "    .dataframe tbody tr th {\n",
       "        vertical-align: top;\n",
       "    }\n",
       "\n",
       "    .dataframe thead th {\n",
       "        text-align: right;\n",
       "    }\n",
       "</style>\n",
       "<table border=\"1\" class=\"dataframe\">\n",
       "  <thead>\n",
       "    <tr style=\"text-align: right;\">\n",
       "      <th></th>\n",
       "      <th>Nb_sharing</th>\n",
       "      <th>Likes</th>\n",
       "      <th>Nb_comments</th>\n",
       "      <th>len_publication</th>\n",
       "    </tr>\n",
       "  </thead>\n",
       "  <tbody>\n",
       "    <tr>\n",
       "      <th>count</th>\n",
       "      <td>134.000000</td>\n",
       "      <td>134.000000</td>\n",
       "      <td>134.000000</td>\n",
       "      <td>134.000000</td>\n",
       "    </tr>\n",
       "    <tr>\n",
       "      <th>mean</th>\n",
       "      <td>4129.507463</td>\n",
       "      <td>39414.910448</td>\n",
       "      <td>14522.723881</td>\n",
       "      <td>180.074627</td>\n",
       "    </tr>\n",
       "    <tr>\n",
       "      <th>std</th>\n",
       "      <td>9444.654774</td>\n",
       "      <td>104431.233051</td>\n",
       "      <td>38024.260043</td>\n",
       "      <td>129.225374</td>\n",
       "    </tr>\n",
       "    <tr>\n",
       "      <th>min</th>\n",
       "      <td>0.000000</td>\n",
       "      <td>0.000000</td>\n",
       "      <td>0.000000</td>\n",
       "      <td>12.000000</td>\n",
       "    </tr>\n",
       "    <tr>\n",
       "      <th>25%</th>\n",
       "      <td>28.000000</td>\n",
       "      <td>4086.500000</td>\n",
       "      <td>12.000000</td>\n",
       "      <td>109.000000</td>\n",
       "    </tr>\n",
       "    <tr>\n",
       "      <th>50%</th>\n",
       "      <td>201.500000</td>\n",
       "      <td>8018.000000</td>\n",
       "      <td>109.000000</td>\n",
       "      <td>122.000000</td>\n",
       "    </tr>\n",
       "    <tr>\n",
       "      <th>75%</th>\n",
       "      <td>1261.750000</td>\n",
       "      <td>17343.000000</td>\n",
       "      <td>1155.750000</td>\n",
       "      <td>286.000000</td>\n",
       "    </tr>\n",
       "    <tr>\n",
       "      <th>max</th>\n",
       "      <td>49297.000000</td>\n",
       "      <td>598502.000000</td>\n",
       "      <td>171866.000000</td>\n",
       "      <td>522.000000</td>\n",
       "    </tr>\n",
       "  </tbody>\n",
       "</table>\n",
       "</div>"
      ],
      "text/plain": [
       "         Nb_sharing          Likes    Nb_comments  len_publication\n",
       "count    134.000000     134.000000     134.000000       134.000000\n",
       "mean    4129.507463   39414.910448   14522.723881       180.074627\n",
       "std     9444.654774  104431.233051   38024.260043       129.225374\n",
       "min        0.000000       0.000000       0.000000        12.000000\n",
       "25%       28.000000    4086.500000      12.000000       109.000000\n",
       "50%      201.500000    8018.000000     109.000000       122.000000\n",
       "75%     1261.750000   17343.000000    1155.750000       286.000000\n",
       "max    49297.000000  598502.000000  171866.000000       522.000000"
      ]
     },
     "execution_count": 70,
     "metadata": {},
     "output_type": "execute_result"
    }
   ],
   "source": [
    "resultat[list_col].describe()"
   ]
  },
  {
   "cell_type": "code",
   "execution_count": null,
   "metadata": {},
   "outputs": [],
   "source": []
  }
 ],
 "metadata": {
  "kernelspec": {
   "display_name": "Python 3",
   "language": "python",
   "name": "python3"
  },
<<<<<<< HEAD
  "language_info": {
   "codemirror_mode": {
    "name": "ipython",
    "version": 3
   },
   "file_extension": ".py",
   "mimetype": "text/x-python",
   "name": "python",
   "nbconvert_exporter": "python",
   "pygments_lexer": "ipython3",
   "version": "3.6.5"
  },
=======
>>>>>>> master
  "toc": {
   "base_numbering": 1,
   "nav_menu": {},
   "number_sections": true,
   "sideBar": true,
   "skip_h1_title": false,
   "title_cell": "Table of Contents",
   "title_sidebar": "Contents",
   "toc_cell": false,
   "toc_position": {},
   "toc_section_display": true,
   "toc_window_display": false
  }
 },
 "nbformat": 4,
 "nbformat_minor": 2
}
