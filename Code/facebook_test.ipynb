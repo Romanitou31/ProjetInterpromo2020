{
 "cells": [
  {
   "cell_type": "code",
   "execution_count": 1,
   "metadata": {},
   "outputs": [],
   "source": [
    "import pandas as pd\n",
    "import numpy as np \n",
    "from bs4 import BeautifulSoup as bs\n",
    "import requests\n",
    "import urllib"
   ]
  },
  {
   "cell_type": "code",
   "execution_count": 2,
   "metadata": {},
   "outputs": [],
   "source": [
    "request=\"avion\""
   ]
  },
  {
   "cell_type": "code",
   "execution_count": null,
   "metadata": {},
   "outputs": [],
   "source": [
    "auth = HTTPBasicAuth('fake@example.com', 'not_a_real_password')"
   ]
  },
  {
   "cell_type": "code",
   "execution_count": 61,
   "metadata": {},
   "outputs": [
    {
     "name": "stdout",
     "output_type": "stream",
     "text": [
      "<div class=\"_1xnd\"><div class=\"_4-u2 _6590 _3xaf _4-u8\"><div class=\"_4-u3 _5dwa _5dwb _3bwv _g3i _1uhd\"><span class=\"_38my\">Communauté<span class=\"_c1c\"></span></span><span class=\"_5dw8\"><a href=\"/airbus/community/\"><span class=\"_2ieq\">Voir tout</span></a></span><div class=\"_3s3-\"></div></div><div class=\"_2pi9 _2pi2\"><div class=\"clearfix _ikh\"><div class=\"_4bl7\"><img alt=\"Highlights info row image\" class=\"_3-91 _1579 img\" src=\"https://static.xx.fbcdn.net/rsrc.php/v3/yg/r/AT9YNs6Rbpt.png\"/></div><div class=\"_4bl9\"><div>2 253 623 personnes aiment ça</div></div></div></div><div class=\"_2pi9 _2pi2\"><div class=\"clearfix _ikh\"><div class=\"_4bl7\"><img alt=\"Highlights info row image\" class=\"_3-91 _1579 img\" src=\"https://static.xx.fbcdn.net/rsrc.php/v3/y7/r/PL1sMLehMAU.png\"/></div><div class=\"_4bl9\"><div>2 297 548 personnes suivent ce lieu</div></div></div></div></div><div class=\"_4-u2 _u9q _3xaf _4-u8\"><div class=\"_4-u3 _5dwa _5dwb _g3i\"><span class=\"_38my\">À propos<span class=\"_c1c\"></span></span><span class=\"_5dw8\"><a class=\"_5u7u\" href=\"/airbus/about/\">Voir tout</a></span><div class=\"_3s3-\"></div></div><div class=\"_2pi9 _2pi2\"><div class=\"clearfix _ikh\"><div class=\"_4bl7\"><img alt=\"Highlights info row image\" class=\"_3-91 _1579 img\" src=\"https://static.xx.fbcdn.net/rsrc.php/v3/yx/r/xVA3lB-GVep.png\"/></div><div class=\"_4bl9 _v0m\"><div id=\"u_0_o\"><div id=\"u_0_p\"><div><a data-lynx-mode=\"hover\" href=\"http://l.facebook.com/l.php?u=http%3A%2F%2Fwww.airbus.com%2F&amp;h=AT1r4838O3fC7wbdvWXD6DjcJLQeEfHmhjxD-fNSiOJ7dcM3qYNxYtEBe27t3MKkryDAO7dIGC1ngIFkRTTb4ls9C1sgyKg-cD6ngOxurpPWtemLQjLRO-qB9_Bllhj36cN1364GXL8OOTHU\" rel=\"nofollow\" target=\"_blank\"><span class=\"fwb\"><a data-ft='{\"tn\":\"-U\"}' data-lynx-mode=\"hover\" href=\"http://l.facebook.com/l.php?u=http%3A%2F%2Fwww.airbus.com%2F&amp;h=AT15EyawCar8rozyx3WWi_BakNVXkO7i0rzYcz4b2BTcTzaPAuEMyc-E6DMbhUUNRIXIbKNz6xYFop2Cpbm8GtB8GCcFFARXYytxYgVhXA3Vh_AoUmo2aRrN6d8PixVJ_uf8JVfgYjOzdd08Scg\" rel=\"nofollow\" target=\"_blank\">www.airbus.com</a></span></a></div></div></div></div></div></div><div><div class=\"clearfix _ikh\"><div class=\"_4bl7\"><div class=\"_2pi9 _2pi2\"><div class=\"clearfix _ikh\"><div class=\"_4bl7\"><img alt=\"Highlights info row image\" class=\"_3-91 _1579 img\" src=\"https://static.xx.fbcdn.net/rsrc.php/v3/yl/r/LwDWwC1d0Rx.png\"/></div><div class=\"_4bl9\"><div><a href=\"/search/?bqf=str%2FEntreprise%2Fkeywords_pages&amp;ref=page_about_category&amp;f=Abqt08uMvGyXSPEIS-lgNIEMhTyx0aaS8nRX-4-jMGzaM2ALIWKQCV9RRKSRNEjRobmLQ2ZaTssCmZmS_ISKHzLpALhifX32AIvrnta_tHU5hQ\">Entreprise</a></div></div></div></div></div></div></div></div><div class=\"_4-u2 _3xaf _7jo_ _4-u8\"><div class=\"_4-u3 _5dwa _33gp _2pim\"><span class=\"_4vf0\"><i class=\"img sp_HwJ3Iv1Ir8s sx_522fb7\"></i></span><span class=\"_38my\">Transparence de la Page<span class=\"_c1c\"></span></span><span class=\"_5dw8\"><a ajaxify=\"/pages/transparency/transparency_dialog/?page_id=392751580741132\" class=\"_5u7u\" href=\"#\" id=\"u_0_n\" rel=\"dialog\" role=\"button\"><span>Voir plus</span></a></span><div class=\"_3s3-\"></div></div><div class=\"_2pi9 _2pio _7jp0\"><span>Facebook vous montre des informations pour vous aider à mieux comprendre le but de cette Page. Découvrez les actions des personnes qui gèrent et publient du contenu.</span></div><div class=\"_3qn7 _61-0 _2fyi _3qnf _2pi9 _3-95\"><div class=\"_1xgg\"><i class=\"_15y0 img sp_HwJ3Iv1Ir8s sx_d47a73\"></i></div><span>Page créée - 16 février 2012</span></div></div></div> \n",
      "\n",
      "<div class=\"_1xnd\"><div class=\"_4-u2 _4-u8\" id=\"page_photos\"><div class=\"_4-u3 _5dwa _5dwb _3v6c\"><span class=\"_38my\">Photos<span class=\"_c1c\"></span></span><div class=\"_3s3-\"></div></div><div class=\"_4-u3\"><div class=\"_2a2q\" id=\"u_0_w\" style=\"width:500px; height:500px;\"><a ajaxify=\"/airbus/photos/pb.392751580741132.-2207520000../3154123201270609/?type=3&amp;eid=ARDMuS0AA6UxYcZyo7VcCLwlg7CHWSiP7peWwYR2V4SVGIAaA6KZDWmdT3t3unxuqMB03SwT8upNOCiD&amp;size=1813%2C1262&amp;fbid=3154123201270609&amp;source=67&amp;player_origin=pages\" class=\"_5dec _xcx\" data-ploi=\"https://scontent-mrs2-1.xx.fbcdn.net/v/t1.0-9/79325868_3154123221270607_2147640362766696448_o.jpg?_nc_cat=109&amp;_nc_ohc=sxSkkueollwAQm_Idl-efrUJ0PLjQZG9_bII8W_W-jftdLo3We06s4cgQ&amp;_nc_ht=scontent-mrs2-1.xx&amp;oh=d9ae4517a53cd9ef0408714ed109a42c&amp;oe=5EB41D0A\" data-plsi=\"https://scontent-mrs2-1.xx.fbcdn.net/v/t1.0-9/s960x960/79325868_3154123221270607_2147640362766696448_o.jpg?_nc_cat=109&amp;_nc_ohc=sxSkkueollwAQm_Idl-efrUJ0PLjQZG9_bII8W_W-jftdLo3We06s4cgQ&amp;_nc_ht=scontent-mrs2-1.xx&amp;oh=85158098da6b9c03aca143d360a9098e&amp;oe=5EAE836D\" data-render-location=\"newsstand\" href=\"/airbus/photos/pb.392751580741132.-2207520000../3154123201270609/?type=3&amp;eid=ARDMuS0AA6UxYcZyo7VcCLwlg7CHWSiP7peWwYR2V4SVGIAaA6KZDWmdT3t3unxuqMB03SwT8upNOCiD\" rel=\"theater\" style=\"top:0px; left:0px; width: 500px; height: 333px;\"><div class=\"uiScaledImageContainer\" style=\"width:500px;height:333px;\"><img alt=\"Aucune description de photo disponible.\" class=\"scaledImageFitWidth img\" data-src=\"https://scontent-mrs2-1.xx.fbcdn.net/v/t1.0-0/p235x350/79325868_3154123221270607_2147640362766696448_o.jpg?_nc_cat=109&amp;_nc_ohc=sxSkkueollwAQm_Idl-efrUJ0PLjQZG9_bII8W_W-jftdLo3We06s4cgQ&amp;_nc_ht=scontent-mrs2-1.xx&amp;oh=50714bb7c71ea03d1b681c53fb819cb3&amp;oe=5EA497C2\" height=\"349\" src=\"https://scontent-mrs2-1.xx.fbcdn.net/v/t1.0-0/p235x350/79325868_3154123221270607_2147640362766696448_o.jpg?_nc_cat=109&amp;_nc_ohc=sxSkkueollwAQm_Idl-efrUJ0PLjQZG9_bII8W_W-jftdLo3We06s4cgQ&amp;_nc_ht=scontent-mrs2-1.xx&amp;oh=50714bb7c71ea03d1b681c53fb819cb3&amp;oe=5EA497C2\" width=\"500\"/></div></a><a ajaxify=\"/airbus/photos/pb.392751580741132.-2207520000../3091744047508525/?type=3&amp;eid=ARDUhEwfYoVKssMyzbRLo-FJGX1jUchYkaE9JkCGmBfMOB6OwDkh3PsISrNrup2OGvUCr2Fz63lYyLdf&amp;size=1875%2C1250&amp;fbid=3091744047508525&amp;source=67&amp;player_origin=pages\" class=\"_5dec _xcx\" data-ploi=\"https://scontent-mrs2-1.xx.fbcdn.net/v/t1.0-9/75356925_3091744050841858_1223867917590855680_o.jpg?_nc_cat=100&amp;_nc_ohc=KnYapMp-k74AQmmOun-GZHsHeVFrXccg5hiJitMcRilTdgMHtHVxMKFdA&amp;_nc_ht=scontent-mrs2-1.xx&amp;oh=5a66180bf59ac564baf51f5f103fde28&amp;oe=5E9E5367\" data-plsi=\"https://scontent-mrs2-1.xx.fbcdn.net/v/t1.0-0/p640x640/75356925_3091744050841858_1223867917590855680_o.jpg?_nc_cat=100&amp;_nc_ohc=KnYapMp-k74AQmmOun-GZHsHeVFrXccg5hiJitMcRilTdgMHtHVxMKFdA&amp;_nc_ht=scontent-mrs2-1.xx&amp;oh=d41faf02d9f207e20933809428bf85a2&amp;oe=5EA5DE80\" data-render-location=\"newsstand\" href=\"/airbus/photos/pb.392751580741132.-2207520000../3091744047508525/?type=3&amp;eid=ARDUhEwfYoVKssMyzbRLo-FJGX1jUchYkaE9JkCGmBfMOB6OwDkh3PsISrNrup2OGvUCr2Fz63lYyLdf\" rel=\"theater\" style=\"top:335px; left:0px; width: 249px; height: 165px;\"><div class=\"uiScaledImageContainer\" style=\"width:249px;height:165px;\"><img alt=\"L’image contient peut-être : avion\" class=\"scaledImageFitWidth img\" data-src=\"https://scontent-mrs2-1.xx.fbcdn.net/v/t1.0-0/p173x172/75356925_3091744050841858_1223867917590855680_o.jpg?_nc_cat=100&amp;_nc_ohc=KnYapMp-k74AQmmOun-GZHsHeVFrXccg5hiJitMcRilTdgMHtHVxMKFdA&amp;_nc_ht=scontent-mrs2-1.xx&amp;oh=b5637e136fafb96468a687268774a985&amp;oe=5E96B727\" height=\"166\" src=\"https://scontent-mrs2-1.xx.fbcdn.net/v/t1.0-0/p173x172/75356925_3091744050841858_1223867917590855680_o.jpg?_nc_cat=100&amp;_nc_ohc=KnYapMp-k74AQmmOun-GZHsHeVFrXccg5hiJitMcRilTdgMHtHVxMKFdA&amp;_nc_ht=scontent-mrs2-1.xx&amp;oh=b5637e136fafb96468a687268774a985&amp;oe=5E96B727\" width=\"249\"/></div></a><a ajaxify=\"/airbus/photos/pb.392751580741132.-2207520000../3088880391128224/?type=3&amp;eid=ARBbQSwdYdNIeTa7FxOdC__QYvdCfMAQ9mKmlcDYGDO1xB9axi63WKh6ddborW4Q3tRW0r3zU26Dl4jV&amp;size=1897%2C1266&amp;fbid=3088880391128224&amp;source=67&amp;player_origin=pages\" class=\"_5dec _xcx\" data-ploi=\"https://scontent-mrs2-1.xx.fbcdn.net/v/t1.0-9/75371729_3088880401128223_1502458802287411200_o.jpg?_nc_cat=103&amp;_nc_ohc=dcsOGzP4WxoAQkppBqQIED_iaQj0r3CXCY9aF1Y-EBHCeikxAMdNaToOQ&amp;_nc_ht=scontent-mrs2-1.xx&amp;oh=e9fc04ab9dfd3c0582b0c9abe63fc1ce&amp;oe=5EA71E4D\" data-plsi=\"https://scontent-mrs2-1.xx.fbcdn.net/v/t1.0-0/p640x640/75371729_3088880401128223_1502458802287411200_o.jpg?_nc_cat=103&amp;_nc_ohc=dcsOGzP4WxoAQkppBqQIED_iaQj0r3CXCY9aF1Y-EBHCeikxAMdNaToOQ&amp;_nc_ht=scontent-mrs2-1.xx&amp;oh=4e9e2eb8c972498c769af400e02400ef&amp;oe=5EABF5AA\" data-render-location=\"newsstand\" href=\"/airbus/photos/pb.392751580741132.-2207520000../3088880391128224/?type=3&amp;eid=ARBbQSwdYdNIeTa7FxOdC__QYvdCfMAQ9mKmlcDYGDO1xB9axi63WKh6ddborW4Q3tRW0r3zU26Dl4jV\" rel=\"theater\" style=\"top:335px; left:251px; width: 249px; height: 165px;\"><div class=\"uiScaledImageContainer\" style=\"width:249px;height:165px;\"><img alt=\"L’image contient peut-être : ciel, nuage, plein air et nature\" class=\"scaledImageFitWidth img\" data-src=\"https://scontent-mrs2-1.xx.fbcdn.net/v/t1.0-0/p173x172/75371729_3088880401128223_1502458802287411200_o.jpg?_nc_cat=103&amp;_nc_ohc=dcsOGzP4WxoAQkppBqQIED_iaQj0r3CXCY9aF1Y-EBHCeikxAMdNaToOQ&amp;_nc_ht=scontent-mrs2-1.xx&amp;oh=10fcc15b44cdc1245efe67703fe77c62&amp;oe=5EA7F20D\" height=\"166\" src=\"https://scontent-mrs2-1.xx.fbcdn.net/v/t1.0-0/p173x172/75371729_3088880401128223_1502458802287411200_o.jpg?_nc_cat=103&amp;_nc_ohc=dcsOGzP4WxoAQkppBqQIED_iaQj0r3CXCY9aF1Y-EBHCeikxAMdNaToOQ&amp;_nc_ht=scontent-mrs2-1.xx&amp;oh=10fcc15b44cdc1245efe67703fe77c62&amp;oe=5EA7F20D\" width=\"249\"/></div></a></div><div class=\"_4z-w\"><a href=\"/airbus/photos/\">Voir tout</a></div></div></div><div class=\"_4-u2 _4-u8\" id=\"videos\"><div class=\"_4-u3 _5dwa _5dwb _3v6c\"><span class=\"_38my\">Vidéos<span class=\"_c1c\"></span></span><div class=\"_3s3-\"></div></div><div class=\"_4-u3\"><div id=\"u_0_s\"><div class=\"_5asl _1-gz _3yt7 _5ass\" id=\"u_0_t\"><div class=\"_1-h0\"><span class=\"_1-h1 _3q_l\" title=\"Airbus Family Flight\">Airbus Family Flight</span></div><a ajaxify=\"/airbus/videos/1439907992692147/\" aria-label=\"Vidéo, Airbus Family Flight, Durée : 1 minute, 31 secondes\" class=\"__-q _5asm\" href=\"/airbus/videos/1439907992692147/\" rel=\"theater\"><span class=\"_5ig0 _47hq\"><div class=\"_46-h _55sd\" style=\"width:500px;height:281px;\"><img alt=\"\" class=\"_46-i img\" data-src=\"https://scontent-mrs2-2.xx.fbcdn.net/v/t15.5256-10/s526x296/14356694_1439909242692022_2051863871_n.jpg?_nc_cat=106&amp;_nc_ohc=6aqsZIu_T80AQkxiFEU96d4Il94r9-8IdzsMkKB9z5LJlfMdOnJM9W5lw&amp;_nc_ht=scontent-mrs2-2.xx&amp;oh=e80aba900d49a129277796703ee3c805&amp;oe=5EAC9013\" height=\"295\" src=\"https://scontent-mrs2-2.xx.fbcdn.net/v/t15.5256-10/s526x296/14356694_1439909242692022_2051863871_n.jpg?_nc_cat=106&amp;_nc_ohc=6aqsZIu_T80AQkxiFEU96d4Il94r9-8IdzsMkKB9z5LJlfMdOnJM9W5lw&amp;_nc_ht=scontent-mrs2-2.xx&amp;oh=e80aba900d49a129277796703ee3c805&amp;oe=5EAC9013\" style=\"left:-13px; top:0px;\" width=\"526\"/></div><div class=\"_3uzl _47hr\"><i class=\"_3uzm _3uzn\"></i></div><div class=\"_3pit\"><div class=\"_5eg8 _1-gx\"></div><div class=\"_5eg8 _1-gy\"></div></div><div class=\"_5asn\"><div class=\"_53z\"><div aria-label=\"92 K likes\" class=\"_4cn2 _4cn4\"><div class=\"_29qi\"><i class=\"img sp_HwJ3Iv1Ir8s sx_7d1a49\"></i></div><div class=\"_2ieq\">92 K</div></div><div aria-label=\"2,5 K comments\" class=\"_4cn3 _4cn4\"><div class=\"_29qj\"><i class=\"img sp_HwJ3Iv1Ir8s sx_886e80\"></i></div><div class=\"_2ieq\">2,5 K</div></div></div></div></span></a></div><div class=\"clearfix _ikh _3-8w\"><div class=\"_4bl7 _3-8_\"><div class=\"_5asl _1-gz _3yt7 _5ass\" id=\"u_0_u\"><div class=\"_1-h0\"><span class=\"_1-h1 _3q_m\" title=\"Dubai Airshow 2019 - Best of the week\">Dubai Airshow 2019 - Best of the week</span></div><a ajaxify=\"/airbus/videos/305656246984384/\" aria-label=\"Vidéo, Dubai Airshow 2019 - Best of the week, Durée : 1 minute, 1 seconde\" class=\"__-q _5asm\" href=\"/airbus/videos/305656246984384/\" rel=\"theater\"><span class=\"_5ig0 _47hq\"><div class=\"uiScaledImageContainer _55sd\" style=\"width:248px;height:139px;\"><img alt=\"\" class=\"scaledImageFitHeight img\" data-src=\"https://scontent-mrs2-1.xx.fbcdn.net/v/t15.5256-10/s261x260/72354810_305671360316206_1058579958084927488_n.jpg?_nc_cat=108&amp;_nc_ohc=O5ULkB8CA2oAQlDTVXlww8IDmgpt8LW8jS15IkxtAx80zMndxp6QHulCw&amp;_nc_ht=scontent-mrs2-1.xx&amp;oh=1d1842945819424618a6cd8b1d6fcb5b&amp;oe=5EA2BA2D\" height=\"139\" src=\"https://scontent-mrs2-1.xx.fbcdn.net/v/t15.5256-10/s261x260/72354810_305671360316206_1058579958084927488_n.jpg?_nc_cat=108&amp;_nc_ohc=O5ULkB8CA2oAQlDTVXlww8IDmgpt8LW8jS15IkxtAx80zMndxp6QHulCw&amp;_nc_ht=scontent-mrs2-1.xx&amp;oh=1d1842945819424618a6cd8b1d6fcb5b&amp;oe=5EA2BA2D\" style=\"left:0px;\" width=\"249\"/></div><div class=\"_3uzl _3uzq _47hr\"><i class=\"_3uzm _3uzn\"></i></div><div class=\"_3pit\"><div class=\"_5eg8 _1-gx\"></div><div class=\"_5eg8 _1-gy\"></div></div><div class=\"_5asn\"><div class=\"_53z\"><div aria-label=\"2 K likes\" class=\"_4cn2 _4cn4\"><div class=\"_29qi\"><i class=\"img sp_HwJ3Iv1Ir8s sx_7d1a49\"></i></div><div class=\"_2ieq\">2 K</div></div><div aria-label=\"58 comments\" class=\"_4cn3 _4cn4\"><div class=\"_29qj\"><i class=\"img sp_HwJ3Iv1Ir8s sx_886e80\"></i></div><div class=\"_2ieq\">58</div></div></div></div></span></a></div></div><div class=\"_4bl7\"><div class=\"_5asl _1-gz _3yt7 _5ass\" id=\"u_0_v\"><div class=\"_1-h0\"><span class=\"_1-h1 _3q_m\" title=\"Dubai Airshow 2019 - Highlights Day 1\">Dubai Airshow 2019 - Highlights Day 1</span></div><a ajaxify=\"/airbus/videos/1242091455978407/\" aria-label=\"Vidéo, Dubai Airshow 2019 - Highlights Day 1, Durée : 1 minute, 1 seconde\" class=\"__-q _5asm\" href=\"/airbus/videos/1242091455978407/\" rel=\"theater\"><span class=\"_5ig0 _47hq\"><div class=\"uiScaledImageContainer _55sd\" style=\"width:248px;height:139px;\"><img alt=\"\" class=\"scaledImageFitHeight img\" data-src=\"https://scontent-mrs2-1.xx.fbcdn.net/v/t15.5256-10/s261x260/72921749_1242102105977342_8814829950180786176_n.jpg?_nc_cat=111&amp;_nc_ohc=HP4WZjId2MMAQlF-P62Xm-rOeu7UJsAxnx2zXehbaKLktWnF9RGLT3Ajw&amp;_nc_ht=scontent-mrs2-1.xx&amp;oh=e9e586b24f8dbf98f226a7a029243ca7&amp;oe=5EA20521\" height=\"139\" src=\"https://scontent-mrs2-1.xx.fbcdn.net/v/t15.5256-10/s261x260/72921749_1242102105977342_8814829950180786176_n.jpg?_nc_cat=111&amp;_nc_ohc=HP4WZjId2MMAQlF-P62Xm-rOeu7UJsAxnx2zXehbaKLktWnF9RGLT3Ajw&amp;_nc_ht=scontent-mrs2-1.xx&amp;oh=e9e586b24f8dbf98f226a7a029243ca7&amp;oe=5EA20521\" style=\"left:0px;\" width=\"249\"/></div><div class=\"_3uzl _3uzq _47hr\"><i class=\"_3uzm _3uzn\"></i></div><div class=\"_3pit\"><div class=\"_5eg8 _1-gx\"></div><div class=\"_5eg8 _1-gy\"></div></div><div class=\"_5asn\"><div class=\"_53z\"><div aria-label=\"1,7 K likes\" class=\"_4cn2 _4cn4\"><div class=\"_29qi\"><i class=\"img sp_HwJ3Iv1Ir8s sx_7d1a49\"></i></div><div class=\"_2ieq\">1,7 K</div></div><div aria-label=\"29 comments\" class=\"_4cn3 _4cn4\"><div class=\"_29qj\"><i class=\"img sp_HwJ3Iv1Ir8s sx_886e80\"></i></div><div class=\"_2ieq\">29</div></div></div></div></span></a></div></div></div></div><div class=\"_4z-w\"><a href=\"/airbus/videos/\">Voir tout</a></div></div></div><div class=\"clearfix uiMorePager stat_elem _52jv\" id=\"www_pages_reaction_see_more_unitwww_pages_home\"><div><a ajaxify=\"/pages_reaction_units/more/?page_id=392751580741132&amp;cursor=%7B%22card_id%22%3A%22videos%22%2C%22has_next_page%22%3Atrue%7D&amp;surface=www_pages_home&amp;unit_count=8&amp;referrer\" class=\"pam uiBoxLightblue uiMorePagerPrimary\" href=\"#\" rel=\"ajaxify\" role=\"button\">Voir plus<i class=\"mhs mts arrow img sp_qtp6H98Uhz5 sx_912489\"></i></a><span class=\"uiMorePagerLoader pam uiBoxLightblue\"><span aria-busy=\"true\" aria-valuemax=\"100\" aria-valuemin=\"0\" aria-valuetext=\"Chargement...\" class=\"img _55ym _55yq _55yo _3-8h\" role=\"progressbar\"></span></span></div></div></div> \n",
      "\n"
     ]
    }
   ],
   "source": [
    "\n",
    "#url_pages=\"https://www.facebook.com/search/pages/?q=\"+request+\"&epa=SERP_TAB\"\n",
    "url_pages=\"https://www.facebook.com/airbus/\"\n",
    "#classe=\"_6rbb\"\n",
    "classe=\"_1xnd\"\n",
    "r = requests.get(url_pages,timeout=5,stream=True)#,auth=auth)\n",
    "page = r.text\n",
    "soup = bs(page,'html.parser')\n",
    "divs=soup.findAll('div',attrs={'class':classe})\n"
   ]
  },
  {
   "cell_type": "code",
   "execution_count": 34,
   "metadata": {
    "scrolled": true
   },
   "outputs": [
    {
     "data": {
      "text/plain": [
       "'https://www.facebook.com/airbus/'"
      ]
     },
     "execution_count": 34,
     "metadata": {},
     "output_type": "execute_result"
    }
   ],
   "source": [
    "url_pages"
   ]
  },
  {
   "cell_type": "code",
   "execution_count": 46,
   "metadata": {},
   "outputs": [
    {
     "data": {
      "text/plain": [
       "[<div class=\"_1xnd\"><div class=\"_4-u2 _6590 _3xaf _4-u8\"><div class=\"_4-u3 _5dwa _5dwb _3bwv _g3i _1uhd\"><span class=\"_38my\">Communauté<span class=\"_c1c\"></span></span><span class=\"_5dw8\"><a href=\"/airbus/community/\"><span class=\"_2ieq\">Voir tout</span></a></span><div class=\"_3s3-\"></div></div><div class=\"_2pi9 _2pi2\"><div class=\"clearfix _ikh\"><div class=\"_4bl7\"><img alt=\"Highlights info row image\" class=\"_3-91 _1579 img\" src=\"https://static.xx.fbcdn.net/rsrc.php/v3/yg/r/AT9YNs6Rbpt.png\"/></div><div class=\"_4bl9\"><div>2 253 287 personnes aiment ça</div></div></div></div><div class=\"_2pi9 _2pi2\"><div class=\"clearfix _ikh\"><div class=\"_4bl7\"><img alt=\"Highlights info row image\" class=\"_3-91 _1579 img\" src=\"https://static.xx.fbcdn.net/rsrc.php/v3/y7/r/PL1sMLehMAU.png\"/></div><div class=\"_4bl9\"><div>2 297 213 personnes suivent ce lieu</div></div></div></div></div><div class=\"_4-u2 _u9q _3xaf _4-u8\"><div class=\"_4-u3 _5dwa _5dwb _g3i\"><span class=\"_38my\">À propos<span class=\"_c1c\"></span></span><span class=\"_5dw8\"><a class=\"_5u7u\" href=\"/airbus/about/\">Voir tout</a></span><div class=\"_3s3-\"></div></div><div class=\"_2pi9 _2pi2\"><div class=\"clearfix _ikh\"><div class=\"_4bl7\"><img alt=\"Highlights info row image\" class=\"_3-91 _1579 img\" src=\"https://static.xx.fbcdn.net/rsrc.php/v3/yx/r/xVA3lB-GVep.png\"/></div><div class=\"_4bl9 _v0m\"><div id=\"u_0_o\"><div id=\"u_0_p\"><div><a data-lynx-mode=\"hover\" href=\"http://l.facebook.com/l.php?u=http%3A%2F%2Fwww.airbus.com%2F&amp;h=AT1odcmVf6WkjvIrRgvsYFuYNkIPPAqz68gRXo6mUnZXi7zwhfnUdWc_wa0GShWnheSyVsc0ocezBGNBSbRDeyVyFTPIISjM-CjmXGM3nTbG0fuAflaESC8f2DWoK3XbNtzzZ0RqDFHljjoa\" rel=\"nofollow\" target=\"_blank\"><span class=\"fwb\"><a data-ft='{\"tn\":\"-U\"}' data-lynx-mode=\"hover\" href=\"http://l.facebook.com/l.php?u=http%3A%2F%2Fwww.airbus.com%2F&amp;h=AT0-9vEklu6V-n48YBBnRu0gHtiEMCtyKpgruQTmHDBkUrIu5WYB_WMCLnt8HfH3Kruqx3b1KPzUXpAhlz_Qc34WqhgKkM0glTt6cew9RvbvtBaHMGaazlgMRb6CBG7wTs4_41vGYSCle2xjdAo\" rel=\"nofollow\" target=\"_blank\">www.airbus.com</a></span></a></div></div></div></div></div></div><div><div class=\"clearfix _ikh\"><div class=\"_4bl7\"><div class=\"_2pi9 _2pi2\"><div class=\"clearfix _ikh\"><div class=\"_4bl7\"><img alt=\"Highlights info row image\" class=\"_3-91 _1579 img\" src=\"https://static.xx.fbcdn.net/rsrc.php/v3/yl/r/LwDWwC1d0Rx.png\"/></div><div class=\"_4bl9\"><div><a href=\"/search/?bqf=str%2FEntreprise%2Fkeywords_pages&amp;ref=page_about_category&amp;f=AboOav1wxBHpat6k5MspZqYneaLZ7sMJoCayiMYW6B7sR-3m7xi65FJx5QvHqrdQqXBQlf49BZjnUG5Vec3-Nr_A4UFlhoZSyxPlYeTS0R0CEg\">Entreprise</a></div></div></div></div></div></div></div></div><div class=\"_4-u2 _3xaf _7jo_ _4-u8\"><div class=\"_4-u3 _5dwa _33gp _2pim\"><span class=\"_4vf0\"><i class=\"img sp_HwJ3Iv1Ir8s sx_522fb7\"></i></span><span class=\"_38my\">Transparence de la Page<span class=\"_c1c\"></span></span><span class=\"_5dw8\"><a ajaxify=\"/pages/transparency/transparency_dialog/?page_id=392751580741132\" class=\"_5u7u\" href=\"#\" id=\"u_0_n\" rel=\"dialog\" role=\"button\"><span>Voir plus</span></a></span><div class=\"_3s3-\"></div></div><div class=\"_2pi9 _2pio _7jp0\"><span>Facebook vous montre des informations pour vous aider à mieux comprendre le but de cette Page. Découvrez les actions des personnes qui gèrent et publient du contenu.</span></div><div class=\"_3qn7 _61-0 _2fyi _3qnf _2pi9 _3-95\"><div class=\"_1xgg\"><i class=\"_15y0 img sp_HwJ3Iv1Ir8s sx_d47a73\"></i></div><span>Page créée - 16 février 2012</span></div></div></div>,\n",
       " <div class=\"_1xnd\"><div class=\"_4-u2 _4-u8\" id=\"page_photos\"><div class=\"_4-u3 _5dwa _5dwb _3v6c\"><span class=\"_38my\">Photos<span class=\"_c1c\"></span></span><div class=\"_3s3-\"></div></div><div class=\"_4-u3\"><div class=\"_2a2q\" id=\"u_0_w\" style=\"width:500px; height:500px;\"><a ajaxify=\"/airbus/photos/pb.392751580741132.-2207520000../3154123201270609/?type=3&amp;eid=ARA-DSUd-9eYRfXZ_Mk8NzNaO6TjrgdXl5D_y3Do7n0idUgo8pY9lVl63KFl8zf1YqUNKF_VvxEiOJtO&amp;size=1813%2C1262&amp;fbid=3154123201270609&amp;source=67&amp;player_origin=pages\" class=\"_5dec _xcx\" data-ploi=\"https://scontent-mrs2-1.xx.fbcdn.net/v/t1.0-9/79325868_3154123221270607_2147640362766696448_o.jpg?_nc_cat=109&amp;_nc_ohc=sxSkkueollwAQm_Idl-efrUJ0PLjQZG9_bII8W_W-jftdLo3We06s4cgQ&amp;_nc_ht=scontent-mrs2-1.xx&amp;oh=d9ae4517a53cd9ef0408714ed109a42c&amp;oe=5EB41D0A\" data-plsi=\"https://scontent-mrs2-1.xx.fbcdn.net/v/t1.0-9/s960x960/79325868_3154123221270607_2147640362766696448_o.jpg?_nc_cat=109&amp;_nc_ohc=sxSkkueollwAQm_Idl-efrUJ0PLjQZG9_bII8W_W-jftdLo3We06s4cgQ&amp;_nc_ht=scontent-mrs2-1.xx&amp;oh=85158098da6b9c03aca143d360a9098e&amp;oe=5EAE836D\" data-render-location=\"newsstand\" href=\"/airbus/photos/pb.392751580741132.-2207520000../3154123201270609/?type=3&amp;eid=ARA-DSUd-9eYRfXZ_Mk8NzNaO6TjrgdXl5D_y3Do7n0idUgo8pY9lVl63KFl8zf1YqUNKF_VvxEiOJtO\" rel=\"theater\" style=\"top:0px; left:0px; width: 500px; height: 333px;\"><div class=\"uiScaledImageContainer\" style=\"width:500px;height:333px;\"><img alt=\"Aucune description de photo disponible.\" class=\"scaledImageFitWidth img\" data-src=\"https://scontent-mrs2-1.xx.fbcdn.net/v/t1.0-0/p235x350/79325868_3154123221270607_2147640362766696448_o.jpg?_nc_cat=109&amp;_nc_ohc=sxSkkueollwAQm_Idl-efrUJ0PLjQZG9_bII8W_W-jftdLo3We06s4cgQ&amp;_nc_ht=scontent-mrs2-1.xx&amp;oh=50714bb7c71ea03d1b681c53fb819cb3&amp;oe=5EA497C2\" height=\"349\" src=\"https://scontent-mrs2-1.xx.fbcdn.net/v/t1.0-0/p235x350/79325868_3154123221270607_2147640362766696448_o.jpg?_nc_cat=109&amp;_nc_ohc=sxSkkueollwAQm_Idl-efrUJ0PLjQZG9_bII8W_W-jftdLo3We06s4cgQ&amp;_nc_ht=scontent-mrs2-1.xx&amp;oh=50714bb7c71ea03d1b681c53fb819cb3&amp;oe=5EA497C2\" width=\"500\"/></div></a><a ajaxify=\"/airbus/photos/pb.392751580741132.-2207520000../3091744047508525/?type=3&amp;eid=ARAUcJBqVmR97phQfInmeX8fEN4Ub15pbwK8NYBsxPElsmyKz8MN2f6EQ0vVvVNaYW7tliwHyJvqgDoX&amp;size=1875%2C1250&amp;fbid=3091744047508525&amp;source=67&amp;player_origin=pages\" class=\"_5dec _xcx\" data-ploi=\"https://scontent-mrs2-1.xx.fbcdn.net/v/t1.0-9/75356925_3091744050841858_1223867917590855680_o.jpg?_nc_cat=100&amp;_nc_ohc=KnYapMp-k74AQmmOun-GZHsHeVFrXccg5hiJitMcRilTdgMHtHVxMKFdA&amp;_nc_ht=scontent-mrs2-1.xx&amp;oh=5a66180bf59ac564baf51f5f103fde28&amp;oe=5E9E5367\" data-plsi=\"https://scontent-mrs2-1.xx.fbcdn.net/v/t1.0-0/p640x640/75356925_3091744050841858_1223867917590855680_o.jpg?_nc_cat=100&amp;_nc_ohc=KnYapMp-k74AQmmOun-GZHsHeVFrXccg5hiJitMcRilTdgMHtHVxMKFdA&amp;_nc_ht=scontent-mrs2-1.xx&amp;oh=d41faf02d9f207e20933809428bf85a2&amp;oe=5EA5DE80\" data-render-location=\"newsstand\" href=\"/airbus/photos/pb.392751580741132.-2207520000../3091744047508525/?type=3&amp;eid=ARAUcJBqVmR97phQfInmeX8fEN4Ub15pbwK8NYBsxPElsmyKz8MN2f6EQ0vVvVNaYW7tliwHyJvqgDoX\" rel=\"theater\" style=\"top:335px; left:0px; width: 249px; height: 165px;\"><div class=\"uiScaledImageContainer\" style=\"width:249px;height:165px;\"><img alt=\"L’image contient peut-être : avion\" class=\"scaledImageFitWidth img\" data-src=\"https://scontent-mrs2-1.xx.fbcdn.net/v/t1.0-0/p173x172/75356925_3091744050841858_1223867917590855680_o.jpg?_nc_cat=100&amp;_nc_ohc=KnYapMp-k74AQmmOun-GZHsHeVFrXccg5hiJitMcRilTdgMHtHVxMKFdA&amp;_nc_ht=scontent-mrs2-1.xx&amp;oh=b5637e136fafb96468a687268774a985&amp;oe=5E96B727\" height=\"166\" src=\"https://scontent-mrs2-1.xx.fbcdn.net/v/t1.0-0/p173x172/75356925_3091744050841858_1223867917590855680_o.jpg?_nc_cat=100&amp;_nc_ohc=KnYapMp-k74AQmmOun-GZHsHeVFrXccg5hiJitMcRilTdgMHtHVxMKFdA&amp;_nc_ht=scontent-mrs2-1.xx&amp;oh=b5637e136fafb96468a687268774a985&amp;oe=5E96B727\" width=\"249\"/></div></a><a ajaxify=\"/airbus/photos/pb.392751580741132.-2207520000../3088880391128224/?type=3&amp;eid=ARAyROAR1co7WeyKQ4uTCjM213Sv72EqzRcKlgcL_Y7NX2z3L75ZEHRavKTNMhUi-9DRHMyIVF2GyTJ5&amp;size=1897%2C1266&amp;fbid=3088880391128224&amp;source=67&amp;player_origin=pages\" class=\"_5dec _xcx\" data-ploi=\"https://scontent-mrs2-1.xx.fbcdn.net/v/t1.0-9/75371729_3088880401128223_1502458802287411200_o.jpg?_nc_cat=103&amp;_nc_ohc=dcsOGzP4WxoAQkppBqQIED_iaQj0r3CXCY9aF1Y-EBHCeikxAMdNaToOQ&amp;_nc_ht=scontent-mrs2-1.xx&amp;oh=e9fc04ab9dfd3c0582b0c9abe63fc1ce&amp;oe=5EA71E4D\" data-plsi=\"https://scontent-mrs2-1.xx.fbcdn.net/v/t1.0-0/p640x640/75371729_3088880401128223_1502458802287411200_o.jpg?_nc_cat=103&amp;_nc_ohc=dcsOGzP4WxoAQkppBqQIED_iaQj0r3CXCY9aF1Y-EBHCeikxAMdNaToOQ&amp;_nc_ht=scontent-mrs2-1.xx&amp;oh=4e9e2eb8c972498c769af400e02400ef&amp;oe=5EABF5AA\" data-render-location=\"newsstand\" href=\"/airbus/photos/pb.392751580741132.-2207520000../3088880391128224/?type=3&amp;eid=ARAyROAR1co7WeyKQ4uTCjM213Sv72EqzRcKlgcL_Y7NX2z3L75ZEHRavKTNMhUi-9DRHMyIVF2GyTJ5\" rel=\"theater\" style=\"top:335px; left:251px; width: 249px; height: 165px;\"><div class=\"uiScaledImageContainer\" style=\"width:249px;height:165px;\"><img alt=\"L’image contient peut-être : ciel, nuage, plein air et nature\" class=\"scaledImageFitWidth img\" data-src=\"https://scontent-mrs2-1.xx.fbcdn.net/v/t1.0-0/p173x172/75371729_3088880401128223_1502458802287411200_o.jpg?_nc_cat=103&amp;_nc_ohc=dcsOGzP4WxoAQkppBqQIED_iaQj0r3CXCY9aF1Y-EBHCeikxAMdNaToOQ&amp;_nc_ht=scontent-mrs2-1.xx&amp;oh=10fcc15b44cdc1245efe67703fe77c62&amp;oe=5EA7F20D\" height=\"166\" src=\"https://scontent-mrs2-1.xx.fbcdn.net/v/t1.0-0/p173x172/75371729_3088880401128223_1502458802287411200_o.jpg?_nc_cat=103&amp;_nc_ohc=dcsOGzP4WxoAQkppBqQIED_iaQj0r3CXCY9aF1Y-EBHCeikxAMdNaToOQ&amp;_nc_ht=scontent-mrs2-1.xx&amp;oh=10fcc15b44cdc1245efe67703fe77c62&amp;oe=5EA7F20D\" width=\"249\"/></div></a></div><div class=\"_4z-w\"><a href=\"/airbus/photos/\">Voir tout</a></div></div></div><div class=\"_4-u2 _4-u8\" id=\"videos\"><div class=\"_4-u3 _5dwa _5dwb _3v6c\"><span class=\"_38my\">Vidéos<span class=\"_c1c\"></span></span><div class=\"_3s3-\"></div></div><div class=\"_4-u3\"><div id=\"u_0_s\"><div class=\"_5asl _1-gz _3yt7 _5ass\" id=\"u_0_t\"><div class=\"_1-h0\"><span class=\"_1-h1 _3q_l\" title=\"Airbus Family Flight\">Airbus Family Flight</span></div><a ajaxify=\"/airbus/videos/1439907992692147/\" aria-label=\"Vidéo, Airbus Family Flight, Durée : 1 minute, 31 secondes\" class=\"__-q _5asm\" href=\"/airbus/videos/1439907992692147/\" rel=\"theater\"><span class=\"_5ig0 _47hq\"><div class=\"_46-h _55sd\" style=\"width:500px;height:281px;\"><img alt=\"\" class=\"_46-i img\" data-src=\"https://scontent-mrs2-2.xx.fbcdn.net/v/t15.5256-10/s526x296/14356694_1439909242692022_2051863871_n.jpg?_nc_cat=106&amp;_nc_ohc=6aqsZIu_T80AQkxiFEU96d4Il94r9-8IdzsMkKB9z5LJlfMdOnJM9W5lw&amp;_nc_ht=scontent-mrs2-2.xx&amp;oh=e80aba900d49a129277796703ee3c805&amp;oe=5EAC9013\" height=\"295\" src=\"https://scontent-mrs2-2.xx.fbcdn.net/v/t15.5256-10/s526x296/14356694_1439909242692022_2051863871_n.jpg?_nc_cat=106&amp;_nc_ohc=6aqsZIu_T80AQkxiFEU96d4Il94r9-8IdzsMkKB9z5LJlfMdOnJM9W5lw&amp;_nc_ht=scontent-mrs2-2.xx&amp;oh=e80aba900d49a129277796703ee3c805&amp;oe=5EAC9013\" style=\"left:-13px; top:0px;\" width=\"526\"/></div><div class=\"_3uzl _47hr\"><i class=\"_3uzm _3uzn\"></i></div><div class=\"_3pit\"><div class=\"_5eg8 _1-gx\"></div><div class=\"_5eg8 _1-gy\"></div></div><div class=\"_5asn\"><div class=\"_53z\"><div aria-label=\"92 K likes\" class=\"_4cn2 _4cn4\"><div class=\"_29qi\"><i class=\"img sp_HwJ3Iv1Ir8s sx_7d1a49\"></i></div><div class=\"_2ieq\">92 K</div></div><div aria-label=\"2,5 K comments\" class=\"_4cn3 _4cn4\"><div class=\"_29qj\"><i class=\"img sp_HwJ3Iv1Ir8s sx_886e80\"></i></div><div class=\"_2ieq\">2,5 K</div></div></div></div></span></a></div><div class=\"clearfix _ikh _3-8w\"><div class=\"_4bl7 _3-8_\"><div class=\"_5asl _1-gz _3yt7 _5ass\" id=\"u_0_u\"><div class=\"_1-h0\"><span class=\"_1-h1 _3q_m\" title=\"Dubai Airshow 2019 - Best of the week\">Dubai Airshow 2019 - Best of the week</span></div><a ajaxify=\"/airbus/videos/305656246984384/\" aria-label=\"Vidéo, Dubai Airshow 2019 - Best of the week, Durée : 1 minute, 1 seconde\" class=\"__-q _5asm\" href=\"/airbus/videos/305656246984384/\" rel=\"theater\"><span class=\"_5ig0 _47hq\"><div class=\"uiScaledImageContainer _55sd\" style=\"width:248px;height:139px;\"><img alt=\"\" class=\"scaledImageFitHeight img\" data-src=\"https://scontent-mrs2-1.xx.fbcdn.net/v/t15.5256-10/s261x260/72354810_305671360316206_1058579958084927488_n.jpg?_nc_cat=108&amp;_nc_ohc=O5ULkB8CA2oAQlDTVXlww8IDmgpt8LW8jS15IkxtAx80zMndxp6QHulCw&amp;_nc_ht=scontent-mrs2-1.xx&amp;oh=1d1842945819424618a6cd8b1d6fcb5b&amp;oe=5EA2BA2D\" height=\"139\" src=\"https://scontent-mrs2-1.xx.fbcdn.net/v/t15.5256-10/s261x260/72354810_305671360316206_1058579958084927488_n.jpg?_nc_cat=108&amp;_nc_ohc=O5ULkB8CA2oAQlDTVXlww8IDmgpt8LW8jS15IkxtAx80zMndxp6QHulCw&amp;_nc_ht=scontent-mrs2-1.xx&amp;oh=1d1842945819424618a6cd8b1d6fcb5b&amp;oe=5EA2BA2D\" style=\"left:0px;\" width=\"249\"/></div><div class=\"_3uzl _3uzq _47hr\"><i class=\"_3uzm _3uzn\"></i></div><div class=\"_3pit\"><div class=\"_5eg8 _1-gx\"></div><div class=\"_5eg8 _1-gy\"></div></div><div class=\"_5asn\"><div class=\"_53z\"><div aria-label=\"2 K likes\" class=\"_4cn2 _4cn4\"><div class=\"_29qi\"><i class=\"img sp_HwJ3Iv1Ir8s sx_7d1a49\"></i></div><div class=\"_2ieq\">2 K</div></div><div aria-label=\"58 comments\" class=\"_4cn3 _4cn4\"><div class=\"_29qj\"><i class=\"img sp_HwJ3Iv1Ir8s sx_886e80\"></i></div><div class=\"_2ieq\">58</div></div></div></div></span></a></div></div><div class=\"_4bl7\"><div class=\"_5asl _1-gz _3yt7 _5ass\" id=\"u_0_v\"><div class=\"_1-h0\"><span class=\"_1-h1 _3q_m\" title=\"Dubai Airshow 2019 - Highlights Day 1\">Dubai Airshow 2019 - Highlights Day 1</span></div><a ajaxify=\"/airbus/videos/1242091455978407/\" aria-label=\"Vidéo, Dubai Airshow 2019 - Highlights Day 1, Durée : 1 minute, 1 seconde\" class=\"__-q _5asm\" href=\"/airbus/videos/1242091455978407/\" rel=\"theater\"><span class=\"_5ig0 _47hq\"><div class=\"uiScaledImageContainer _55sd\" style=\"width:248px;height:139px;\"><img alt=\"\" class=\"scaledImageFitHeight img\" data-src=\"https://scontent-mrs2-1.xx.fbcdn.net/v/t15.5256-10/s261x260/72921749_1242102105977342_8814829950180786176_n.jpg?_nc_cat=111&amp;_nc_ohc=HP4WZjId2MMAQlF-P62Xm-rOeu7UJsAxnx2zXehbaKLktWnF9RGLT3Ajw&amp;_nc_ht=scontent-mrs2-1.xx&amp;oh=e9e586b24f8dbf98f226a7a029243ca7&amp;oe=5EA20521\" height=\"139\" src=\"https://scontent-mrs2-1.xx.fbcdn.net/v/t15.5256-10/s261x260/72921749_1242102105977342_8814829950180786176_n.jpg?_nc_cat=111&amp;_nc_ohc=HP4WZjId2MMAQlF-P62Xm-rOeu7UJsAxnx2zXehbaKLktWnF9RGLT3Ajw&amp;_nc_ht=scontent-mrs2-1.xx&amp;oh=e9e586b24f8dbf98f226a7a029243ca7&amp;oe=5EA20521\" style=\"left:0px;\" width=\"249\"/></div><div class=\"_3uzl _3uzq _47hr\"><i class=\"_3uzm _3uzn\"></i></div><div class=\"_3pit\"><div class=\"_5eg8 _1-gx\"></div><div class=\"_5eg8 _1-gy\"></div></div><div class=\"_5asn\"><div class=\"_53z\"><div aria-label=\"1,7 K likes\" class=\"_4cn2 _4cn4\"><div class=\"_29qi\"><i class=\"img sp_HwJ3Iv1Ir8s sx_7d1a49\"></i></div><div class=\"_2ieq\">1,7 K</div></div><div aria-label=\"29 comments\" class=\"_4cn3 _4cn4\"><div class=\"_29qj\"><i class=\"img sp_HwJ3Iv1Ir8s sx_886e80\"></i></div><div class=\"_2ieq\">29</div></div></div></div></span></a></div></div></div></div><div class=\"_4z-w\"><a href=\"/airbus/videos/\">Voir tout</a></div></div></div><div class=\"clearfix uiMorePager stat_elem _52jv\" id=\"www_pages_reaction_see_more_unitwww_pages_home\"><div><a ajaxify=\"/pages_reaction_units/more/?page_id=392751580741132&amp;cursor=%7B%22card_id%22%3A%22videos%22%2C%22has_next_page%22%3Atrue%7D&amp;surface=www_pages_home&amp;unit_count=8&amp;referrer\" class=\"pam uiBoxLightblue uiMorePagerPrimary\" href=\"#\" rel=\"ajaxify\" role=\"button\">Voir plus<i class=\"mhs mts arrow img sp_qtp6H98Uhz5 sx_912489\"></i></a><span class=\"uiMorePagerLoader pam uiBoxLightblue\"><span aria-busy=\"true\" aria-valuemax=\"100\" aria-valuemin=\"0\" aria-valuetext=\"Chargement...\" class=\"img _55ym _55yq _55yo _3-8h\" role=\"progressbar\"></span></span></div></div></div>]"
      ]
     },
     "execution_count": 46,
     "metadata": {},
     "output_type": "execute_result"
    }
   ],
   "source": [
    "divs"
   ]
  },
  {
   "cell_type": "code",
   "execution_count": 45,
   "metadata": {},
   "outputs": [
    {
     "data": {
      "text/plain": [
       "<Response [200]>"
      ]
     },
     "execution_count": 45,
     "metadata": {},
     "output_type": "execute_result"
    }
   ],
   "source": [
    "r"
   ]
  },
  {
   "cell_type": "code",
   "execution_count": null,
   "metadata": {},
   "outputs": [],
   "source": [
    "data-testid=\"post_message\"\n",
    "\"_1dwg_1w_m_q7o\""
   ]
  },
  {
   "cell_type": "code",
   "execution_count": 31,
   "metadata": {},
   "outputs": [],
   "source": [
    "from selenium import webdriver\n",
    "from selenium.webdriver.common.keys import Keys\n",
    "from bs4 import BeautifulSoup\n",
    "import re\n",
    "import pandas as pd\n",
    "import os\n",
    "import time\n",
    "from selenium.webdriver.chrome.options import Options"
   ]
  },
  {
   "cell_type": "code",
   "execution_count": 62,
   "metadata": {},
   "outputs": [],
   "source": [
    "#launch url\n",
    "#url = \"https://www.facebook.com/airbus/\"\n",
    "url=\"https://www.youtube.com/watch?v=N8mTPYiCO-8&fbclid=IwAR3Bt0BPfafGkpiQFw4KOODnhfOV4JfCjWdqW3vCfphCD_igrLpXo6v4rrQ\"\n",
    "# create a new Firefox session\n",
    "options = Options() \n",
    "options.add_argument(\"--start-maximized\") \n",
    "#driver = webdriver.Chrome(\"C:/Users/berna/Documents/chromedriver_win32/chromedriver.exe\",chrome_options=options)\n",
    "driver = webdriver.PhantomJS(\"C:/Users/berna/Documents/interpromo/phantomjs-2.1.1-windows/phantomjs-2.1.1-windows/bin/phantomjs.exe\")\n",
    "\n",
    "driver.get(url)\n",
    "\n",
    "SCROLL_PAUSE_TIME = 2\n",
    "\n",
    "# Get scroll height\n",
    "Y=500\n",
    "for _ in range(4):\n",
    "    # Scroll down to bottom\n",
    "    driver.execute_script(\"window.scrollTo(\"+str(Y)+\",\"+str(Y+500)+\")\") \n",
    "    Y+=500\n",
    "    # Wait to load page\n",
    "    time.sleep(0.5)\n",
    "classe=\"_1xnd\"\n",
    "soup=BeautifulSoup(driver.page_source,'html.parser')\n",
    "#divs=soup.findAll('div',attrs={'class':classe})\n",
    "divs=soup.findAll('yt-formatted-string')#,attrs={'id':'body'})"
   ]
  },
  {
   "cell_type": "code",
   "execution_count": 63,
   "metadata": {},
   "outputs": [
    {
     "data": {
      "text/plain": [
       "[]"
      ]
     },
     "execution_count": 63,
     "metadata": {},
     "output_type": "execute_result"
    }
   ],
   "source": [
    "divs"
   ]
  },
  {
   "cell_type": "code",
   "execution_count": null,
   "metadata": {},
   "outputs": [],
   "source": [
    "#import pandas as pd\n",
    "\n",
    "from selenium import webdriver\n",
    "from selenium.webdriver.common.keys import Keys\n",
    "from selenium.webdriver.common.action_chains import ActionChains\n",
    "import csv\n",
    "\n",
    "browser = webdriver.Chrome(\"C:/Users/berna/Documents/chromedriver_win32/chromedriver.exe\")\n",
    "\n",
    "#change your channel url here\n",
    "\n",
    "browser.get(\"https://www.youtube.com/results?search_query=airbus+a380\")\n",
    "time.sleep(1)\n",
    "\n",
    "elem = browser.find_element_by_tag_name(\"body\")\n",
    "\n",
    "\n",
    "#considering the number of videos in your channel change this below figure\n",
    "\n",
    "no_of_loadmore = 100\n",
    "\n",
    "try:\n",
    "    while no_of_loadmore:\n",
    "        browser.find_element_by_class_name(\"load-more-text\").click()\n",
    "        time.sleep(1)\n",
    "        no_of_loadmore-=1\n",
    "except:\n",
    "    pass\n",
    "\n",
    "#scrape the content by xpath\n",
    "\n",
    "post_elems = browser.find_elements_by_xpath('//div/h3/a')\n",
    "links = browser.find_elements_by_xpath('//*[@id=\"channels-browse-content-grid\"]/li/div/div[1]/div[2]/h3/a')\n",
    "\n",
    "with open('googleindia_vids.csv', 'w',newline='') as csvfile:\n",
    "    autowriter = csv.writer(csvfile)\n",
    "    autowriter.writerow(['Title','URL'])\n",
    "    for i in range(0,len(post_elems)-1):\n",
    "        autowriter.writerow([post_elems[i].text,links[i].get_attribute('href')])\n",
    "\n",
    "#iterate thru the elements and print it\n",
    "\n",
    "for post in post_elems:\n",
    "    print(post.text) \n",
    "\n",
    "for link in links:\n",
    "    print(link.get_attribute('href'))"
   ]
  }
 ],
 "metadata": {
  "kernelspec": {
   "display_name": "Python 3",
   "language": "python",
   "name": "python3"
  },
  "language_info": {
   "codemirror_mode": {
    "name": "ipython",
    "version": 3
   },
   "file_extension": ".py",
   "mimetype": "text/x-python",
   "name": "python",
   "nbconvert_exporter": "python",
   "pygments_lexer": "ipython3",
   "version": "3.6.5"
  }
 },
 "nbformat": 4,
 "nbformat_minor": 2
}
