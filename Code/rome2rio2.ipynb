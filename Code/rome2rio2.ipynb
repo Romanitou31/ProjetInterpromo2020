{
 "cells": [
  {
   "cell_type": "markdown",
   "metadata": {},
   "source": [
    "# Rome2rio"
   ]
  },
  {
   "cell_type": "code",
   "execution_count": 1,
   "metadata": {},
   "outputs": [],
   "source": [
    "import urllib.request\n",
    "import urllib.parse\n",
    "import urllib.error\n",
    "from bs4 import BeautifulSoup\n",
    "import ssl\n",
    "import json\n",
    "import ast\n",
    "import json\n",
    "import os\n",
    "from urllib.request import Request, urlopen\n",
    "import pandas as pd\n",
    "from bs4 import BeautifulSoup as bs\n",
    "import requests\n",
    "import re\n",
    "from selenium import webdriver\n",
    "from selenium.webdriver import Chrome\n",
    "from selenium.webdriver.chrome.options import Options"
   ]
  },
  {
   "cell_type": "code",
   "execution_count": 2,
   "metadata": {
    "collapsed": true
   },
   "outputs": [
    {
     "name": "stderr",
     "output_type": "stream",
     "text": [
      "C:\\Users\\user\\Anaconda3\\lib\\site-packages\\ipykernel_launcher.py:7: DeprecationWarning: use options instead of chrome_options\n",
      "  import sys\n"
     ]
    },
    {
     "ename": "SessionNotCreatedException",
     "evalue": "Message: session not created: This version of ChromeDriver only supports Chrome version 80\n",
     "output_type": "error",
     "traceback": [
      "\u001b[1;31m---------------------------------------------------------------------------\u001b[0m",
      "\u001b[1;31mSessionNotCreatedException\u001b[0m                Traceback (most recent call last)",
      "\u001b[1;32m<ipython-input-2-b14e30b47ddc>\u001b[0m in \u001b[0;36m<module>\u001b[1;34m\u001b[0m\n\u001b[0;32m      5\u001b[0m \u001b[0mwebdriver\u001b[0m \u001b[1;33m=\u001b[0m \u001b[1;34m\"C:/Users/user/Desktop/chromedriver\"\u001b[0m\u001b[1;33m\u001b[0m\u001b[1;33m\u001b[0m\u001b[0m\n\u001b[0;32m      6\u001b[0m \u001b[1;33m\u001b[0m\u001b[0m\n\u001b[1;32m----> 7\u001b[1;33m \u001b[0mdriver\u001b[0m \u001b[1;33m=\u001b[0m \u001b[0mChrome\u001b[0m\u001b[1;33m(\u001b[0m\u001b[0mwebdriver\u001b[0m\u001b[1;33m,\u001b[0m\u001b[0mchrome_options\u001b[0m\u001b[1;33m=\u001b[0m\u001b[0mchrome_options\u001b[0m\u001b[1;33m)\u001b[0m\u001b[1;33m\u001b[0m\u001b[1;33m\u001b[0m\u001b[0m\n\u001b[0m",
      "\u001b[1;32m~\\Anaconda3\\lib\\site-packages\\selenium\\webdriver\\chrome\\webdriver.py\u001b[0m in \u001b[0;36m__init__\u001b[1;34m(self, executable_path, port, options, service_args, desired_capabilities, service_log_path, chrome_options, keep_alive)\u001b[0m\n\u001b[0;32m     79\u001b[0m                     \u001b[0mremote_server_addr\u001b[0m\u001b[1;33m=\u001b[0m\u001b[0mself\u001b[0m\u001b[1;33m.\u001b[0m\u001b[0mservice\u001b[0m\u001b[1;33m.\u001b[0m\u001b[0mservice_url\u001b[0m\u001b[1;33m,\u001b[0m\u001b[1;33m\u001b[0m\u001b[1;33m\u001b[0m\u001b[0m\n\u001b[0;32m     80\u001b[0m                     keep_alive=keep_alive),\n\u001b[1;32m---> 81\u001b[1;33m                 desired_capabilities=desired_capabilities)\n\u001b[0m\u001b[0;32m     82\u001b[0m         \u001b[1;32mexcept\u001b[0m \u001b[0mException\u001b[0m\u001b[1;33m:\u001b[0m\u001b[1;33m\u001b[0m\u001b[1;33m\u001b[0m\u001b[0m\n\u001b[0;32m     83\u001b[0m             \u001b[0mself\u001b[0m\u001b[1;33m.\u001b[0m\u001b[0mquit\u001b[0m\u001b[1;33m(\u001b[0m\u001b[1;33m)\u001b[0m\u001b[1;33m\u001b[0m\u001b[1;33m\u001b[0m\u001b[0m\n",
      "\u001b[1;32m~\\Anaconda3\\lib\\site-packages\\selenium\\webdriver\\remote\\webdriver.py\u001b[0m in \u001b[0;36m__init__\u001b[1;34m(self, command_executor, desired_capabilities, browser_profile, proxy, keep_alive, file_detector, options)\u001b[0m\n\u001b[0;32m    155\u001b[0m             warnings.warn(\"Please use FirefoxOptions to set browser profile\",\n\u001b[0;32m    156\u001b[0m                           DeprecationWarning, stacklevel=2)\n\u001b[1;32m--> 157\u001b[1;33m         \u001b[0mself\u001b[0m\u001b[1;33m.\u001b[0m\u001b[0mstart_session\u001b[0m\u001b[1;33m(\u001b[0m\u001b[0mcapabilities\u001b[0m\u001b[1;33m,\u001b[0m \u001b[0mbrowser_profile\u001b[0m\u001b[1;33m)\u001b[0m\u001b[1;33m\u001b[0m\u001b[1;33m\u001b[0m\u001b[0m\n\u001b[0m\u001b[0;32m    158\u001b[0m         \u001b[0mself\u001b[0m\u001b[1;33m.\u001b[0m\u001b[0m_switch_to\u001b[0m \u001b[1;33m=\u001b[0m \u001b[0mSwitchTo\u001b[0m\u001b[1;33m(\u001b[0m\u001b[0mself\u001b[0m\u001b[1;33m)\u001b[0m\u001b[1;33m\u001b[0m\u001b[1;33m\u001b[0m\u001b[0m\n\u001b[0;32m    159\u001b[0m         \u001b[0mself\u001b[0m\u001b[1;33m.\u001b[0m\u001b[0m_mobile\u001b[0m \u001b[1;33m=\u001b[0m \u001b[0mMobile\u001b[0m\u001b[1;33m(\u001b[0m\u001b[0mself\u001b[0m\u001b[1;33m)\u001b[0m\u001b[1;33m\u001b[0m\u001b[1;33m\u001b[0m\u001b[0m\n",
      "\u001b[1;32m~\\Anaconda3\\lib\\site-packages\\selenium\\webdriver\\remote\\webdriver.py\u001b[0m in \u001b[0;36mstart_session\u001b[1;34m(self, capabilities, browser_profile)\u001b[0m\n\u001b[0;32m    250\u001b[0m         parameters = {\"capabilities\": w3c_caps,\n\u001b[0;32m    251\u001b[0m                       \"desiredCapabilities\": capabilities}\n\u001b[1;32m--> 252\u001b[1;33m         \u001b[0mresponse\u001b[0m \u001b[1;33m=\u001b[0m \u001b[0mself\u001b[0m\u001b[1;33m.\u001b[0m\u001b[0mexecute\u001b[0m\u001b[1;33m(\u001b[0m\u001b[0mCommand\u001b[0m\u001b[1;33m.\u001b[0m\u001b[0mNEW_SESSION\u001b[0m\u001b[1;33m,\u001b[0m \u001b[0mparameters\u001b[0m\u001b[1;33m)\u001b[0m\u001b[1;33m\u001b[0m\u001b[1;33m\u001b[0m\u001b[0m\n\u001b[0m\u001b[0;32m    253\u001b[0m         \u001b[1;32mif\u001b[0m \u001b[1;34m'sessionId'\u001b[0m \u001b[1;32mnot\u001b[0m \u001b[1;32min\u001b[0m \u001b[0mresponse\u001b[0m\u001b[1;33m:\u001b[0m\u001b[1;33m\u001b[0m\u001b[1;33m\u001b[0m\u001b[0m\n\u001b[0;32m    254\u001b[0m             \u001b[0mresponse\u001b[0m \u001b[1;33m=\u001b[0m \u001b[0mresponse\u001b[0m\u001b[1;33m[\u001b[0m\u001b[1;34m'value'\u001b[0m\u001b[1;33m]\u001b[0m\u001b[1;33m\u001b[0m\u001b[1;33m\u001b[0m\u001b[0m\n",
      "\u001b[1;32m~\\Anaconda3\\lib\\site-packages\\selenium\\webdriver\\remote\\webdriver.py\u001b[0m in \u001b[0;36mexecute\u001b[1;34m(self, driver_command, params)\u001b[0m\n\u001b[0;32m    319\u001b[0m         \u001b[0mresponse\u001b[0m \u001b[1;33m=\u001b[0m \u001b[0mself\u001b[0m\u001b[1;33m.\u001b[0m\u001b[0mcommand_executor\u001b[0m\u001b[1;33m.\u001b[0m\u001b[0mexecute\u001b[0m\u001b[1;33m(\u001b[0m\u001b[0mdriver_command\u001b[0m\u001b[1;33m,\u001b[0m \u001b[0mparams\u001b[0m\u001b[1;33m)\u001b[0m\u001b[1;33m\u001b[0m\u001b[1;33m\u001b[0m\u001b[0m\n\u001b[0;32m    320\u001b[0m         \u001b[1;32mif\u001b[0m \u001b[0mresponse\u001b[0m\u001b[1;33m:\u001b[0m\u001b[1;33m\u001b[0m\u001b[1;33m\u001b[0m\u001b[0m\n\u001b[1;32m--> 321\u001b[1;33m             \u001b[0mself\u001b[0m\u001b[1;33m.\u001b[0m\u001b[0merror_handler\u001b[0m\u001b[1;33m.\u001b[0m\u001b[0mcheck_response\u001b[0m\u001b[1;33m(\u001b[0m\u001b[0mresponse\u001b[0m\u001b[1;33m)\u001b[0m\u001b[1;33m\u001b[0m\u001b[1;33m\u001b[0m\u001b[0m\n\u001b[0m\u001b[0;32m    322\u001b[0m             response['value'] = self._unwrap_value(\n\u001b[0;32m    323\u001b[0m                 response.get('value', None))\n",
      "\u001b[1;32m~\\Anaconda3\\lib\\site-packages\\selenium\\webdriver\\remote\\errorhandler.py\u001b[0m in \u001b[0;36mcheck_response\u001b[1;34m(self, response)\u001b[0m\n\u001b[0;32m    240\u001b[0m                 \u001b[0malert_text\u001b[0m \u001b[1;33m=\u001b[0m \u001b[0mvalue\u001b[0m\u001b[1;33m[\u001b[0m\u001b[1;34m'alert'\u001b[0m\u001b[1;33m]\u001b[0m\u001b[1;33m.\u001b[0m\u001b[0mget\u001b[0m\u001b[1;33m(\u001b[0m\u001b[1;34m'text'\u001b[0m\u001b[1;33m)\u001b[0m\u001b[1;33m\u001b[0m\u001b[1;33m\u001b[0m\u001b[0m\n\u001b[0;32m    241\u001b[0m             \u001b[1;32mraise\u001b[0m \u001b[0mexception_class\u001b[0m\u001b[1;33m(\u001b[0m\u001b[0mmessage\u001b[0m\u001b[1;33m,\u001b[0m \u001b[0mscreen\u001b[0m\u001b[1;33m,\u001b[0m \u001b[0mstacktrace\u001b[0m\u001b[1;33m,\u001b[0m \u001b[0malert_text\u001b[0m\u001b[1;33m)\u001b[0m\u001b[1;33m\u001b[0m\u001b[1;33m\u001b[0m\u001b[0m\n\u001b[1;32m--> 242\u001b[1;33m         \u001b[1;32mraise\u001b[0m \u001b[0mexception_class\u001b[0m\u001b[1;33m(\u001b[0m\u001b[0mmessage\u001b[0m\u001b[1;33m,\u001b[0m \u001b[0mscreen\u001b[0m\u001b[1;33m,\u001b[0m \u001b[0mstacktrace\u001b[0m\u001b[1;33m)\u001b[0m\u001b[1;33m\u001b[0m\u001b[1;33m\u001b[0m\u001b[0m\n\u001b[0m\u001b[0;32m    243\u001b[0m \u001b[1;33m\u001b[0m\u001b[0m\n\u001b[0;32m    244\u001b[0m     \u001b[1;32mdef\u001b[0m \u001b[0m_value_or_default\u001b[0m\u001b[1;33m(\u001b[0m\u001b[0mself\u001b[0m\u001b[1;33m,\u001b[0m \u001b[0mobj\u001b[0m\u001b[1;33m,\u001b[0m \u001b[0mkey\u001b[0m\u001b[1;33m,\u001b[0m \u001b[0mdefault\u001b[0m\u001b[1;33m)\u001b[0m\u001b[1;33m:\u001b[0m\u001b[1;33m\u001b[0m\u001b[1;33m\u001b[0m\u001b[0m\n",
      "\u001b[1;31mSessionNotCreatedException\u001b[0m: Message: session not created: This version of ChromeDriver only supports Chrome version 80\n"
     ]
    }
   ],
   "source": [
    "chrome_options = Options()\n",
    "chrome_options.add_argument('--headless')\n",
    "chrome_options.add_argument('--no-sandbox')\n",
    "chrome_options.add_argument('--disable-dev-shm-usage')\n",
    "webdriver = \"/home/sid2018-5/Téléchargements/chromedriver\"\n",
    "\n",
    "driver = Chrome(webdriver,chrome_options=chrome_options)"
   ]
  },
  {
   "cell_type": "code",
   "execution_count": 113,
   "metadata": {},
   "outputs": [],
   "source": [
    "url = \"https://www.rome2rio.com/map/Paris/Berlin\"\n",
    "driver.get(url)"
   ]
  },
  {
   "cell_type": "code",
   "execution_count": 114,
   "metadata": {},
   "outputs": [
    {
     "data": {
      "text/plain": [
       "10"
      ]
     },
     "execution_count": 114,
     "metadata": {},
     "output_type": "execute_result"
    }
   ],
   "source": [
    "items2"
   ]
  },
  {
   "cell_type": "code",
   "execution_count": 134,
   "metadata": {},
   "outputs": [],
   "source": [
    "items = len(driver.find_elements_by_class_name(\"route__title\"))\n",
    "items2= len(driver.find_elements_by_class_name(\"route__details\"))\n",
    "\n",
    "total=[]\n",
    "data=pd.DataFrame()\n",
    "for i in range(items):\n",
    "    a=driver.find_elements_by_class_name(\"route__title\")[i].text\n",
    "    b=driver.find_elements_by_class_name(\"route__details\")[i].text\n",
    "    new = ((a,b))\n",
    "    total.append(new)\n",
    "    \n",
    "data = pd.DataFrame(total,columns=['itineraire','prix'])\n",
    "\n",
    "data['Nb_bus_taken']=data.itineraire.str.count(\"Bus|bus\")\n",
    "data['Nb_train_taken']=data.itineraire.str.count(\"Train|train\")\n",
    "data['Nb_car_taken']=data.itineraire.str.count(\"Drive|drive\")\n",
    "data['Nb_plane_taken']=data.itineraire.str.count(\"Fly|fly\")\n",
    "\n",
    "data['Price_max']=data['prix'].apply(lambda st: st[st.find(\"-\")+1:])\n",
    "data['Price_min']=data['prix'].apply(lambda st: st[:st.find(\"-\")])\n",
    "data['Duration']=data['itineraire'].apply(lambda st: st[st.find(\"•\")+1:])\n",
    "data['heure']=data['Duration'].apply(lambda st: st[:st.find(\"h\")])\n",
    "data['minute']=data['Duration'].apply(lambda st: st[st.find(\"h\")+1:st.find(\"m\")])"
   ]
  },
  {
   "cell_type": "code",
   "execution_count": 142,
   "metadata": {
    "scrolled": true
   },
   "outputs": [],
   "source": [
    "data['Duration_final']=data['heure'].astype(int)*60+data['minute'].astype(int)"
   ]
  },
  {
   "cell_type": "code",
   "execution_count": 143,
   "metadata": {},
   "outputs": [
    {
     "data": {
      "text/html": [
       "<div>\n",
       "<style scoped>\n",
       "    .dataframe tbody tr th:only-of-type {\n",
       "        vertical-align: middle;\n",
       "    }\n",
       "\n",
       "    .dataframe tbody tr th {\n",
       "        vertical-align: top;\n",
       "    }\n",
       "\n",
       "    .dataframe thead th {\n",
       "        text-align: right;\n",
       "    }\n",
       "</style>\n",
       "<table border=\"1\" class=\"dataframe\">\n",
       "  <thead>\n",
       "    <tr style=\"text-align: right;\">\n",
       "      <th></th>\n",
       "      <th>itineraire</th>\n",
       "      <th>prix</th>\n",
       "      <th>Nb_bus_taken</th>\n",
       "      <th>Nb_train_taken</th>\n",
       "      <th>Nb_car_taken</th>\n",
       "      <th>Nb_plane_taken</th>\n",
       "      <th>Price_max</th>\n",
       "      <th>Price_min</th>\n",
       "      <th>Duration</th>\n",
       "      <th>heure</th>\n",
       "      <th>minute</th>\n",
       "      <th>Duration_final</th>\n",
       "    </tr>\n",
       "  </thead>\n",
       "  <tbody>\n",
       "    <tr>\n",
       "      <th>0</th>\n",
       "      <td>Fly Paris CDG to Berlin Tegel  •  4h 45m</td>\n",
       "      <td>47€ - 174€</td>\n",
       "      <td>0</td>\n",
       "      <td>0</td>\n",
       "      <td>0</td>\n",
       "      <td>1</td>\n",
       "      <td>174€</td>\n",
       "      <td>47€</td>\n",
       "      <td>4h 45m</td>\n",
       "      <td>4</td>\n",
       "      <td>45</td>\n",
       "      <td>285</td>\n",
       "    </tr>\n",
       "    <tr>\n",
       "      <th>1</th>\n",
       "      <td>Fly Paris Orly to Berlin Tegel  •  4h 41m</td>\n",
       "      <td>89€ - 387€</td>\n",
       "      <td>0</td>\n",
       "      <td>0</td>\n",
       "      <td>0</td>\n",
       "      <td>1</td>\n",
       "      <td>387€</td>\n",
       "      <td>89€</td>\n",
       "      <td>4h 41m</td>\n",
       "      <td>4</td>\n",
       "      <td>41</td>\n",
       "      <td>281</td>\n",
       "    </tr>\n",
       "    <tr>\n",
       "      <th>2</th>\n",
       "      <td>Fly Paris CDG to Berlin Schoenefeld  •  4h 53m</td>\n",
       "      <td>97€ - 246€</td>\n",
       "      <td>0</td>\n",
       "      <td>0</td>\n",
       "      <td>0</td>\n",
       "      <td>1</td>\n",
       "      <td>246€</td>\n",
       "      <td>97€</td>\n",
       "      <td>4h 53m</td>\n",
       "      <td>4</td>\n",
       "      <td>53</td>\n",
       "      <td>293</td>\n",
       "    </tr>\n",
       "    <tr>\n",
       "      <th>3</th>\n",
       "      <td>Fly Paris Orly to Berlin Schoenefeld  •  7h 18m</td>\n",
       "      <td>49€ - 159€</td>\n",
       "      <td>0</td>\n",
       "      <td>0</td>\n",
       "      <td>0</td>\n",
       "      <td>1</td>\n",
       "      <td>159€</td>\n",
       "      <td>49€</td>\n",
       "      <td>7h 18m</td>\n",
       "      <td>7</td>\n",
       "      <td>18</td>\n",
       "      <td>438</td>\n",
       "    </tr>\n",
       "    <tr>\n",
       "      <th>4</th>\n",
       "      <td>Train to Brussels, fly to Berlin Tegel  •  5h 39m</td>\n",
       "      <td>117€ - 338€</td>\n",
       "      <td>0</td>\n",
       "      <td>1</td>\n",
       "      <td>0</td>\n",
       "      <td>1</td>\n",
       "      <td>338€</td>\n",
       "      <td>117€</td>\n",
       "      <td>5h 39m</td>\n",
       "      <td>5</td>\n",
       "      <td>39</td>\n",
       "      <td>339</td>\n",
       "    </tr>\n",
       "    <tr>\n",
       "      <th>5</th>\n",
       "      <td>Train via Frankfurt am Main  •  8h 29m</td>\n",
       "      <td>187€ - 277€</td>\n",
       "      <td>0</td>\n",
       "      <td>1</td>\n",
       "      <td>0</td>\n",
       "      <td>0</td>\n",
       "      <td>277€</td>\n",
       "      <td>187€</td>\n",
       "      <td>8h 29m</td>\n",
       "      <td>8</td>\n",
       "      <td>29</td>\n",
       "      <td>509</td>\n",
       "    </tr>\n",
       "    <tr>\n",
       "      <th>6</th>\n",
       "      <td>Train  •  12h 23m</td>\n",
       "      <td>90€ - 140€</td>\n",
       "      <td>0</td>\n",
       "      <td>1</td>\n",
       "      <td>0</td>\n",
       "      <td>0</td>\n",
       "      <td>140€</td>\n",
       "      <td>90€</td>\n",
       "      <td>12h 23m</td>\n",
       "      <td>12</td>\n",
       "      <td>23</td>\n",
       "      <td>743</td>\n",
       "    </tr>\n",
       "    <tr>\n",
       "      <th>7</th>\n",
       "      <td>Bus  •  14h 15m</td>\n",
       "      <td>45€ - 65€</td>\n",
       "      <td>1</td>\n",
       "      <td>0</td>\n",
       "      <td>0</td>\n",
       "      <td>0</td>\n",
       "      <td>65€</td>\n",
       "      <td>45€</td>\n",
       "      <td>14h 15m</td>\n",
       "      <td>14</td>\n",
       "      <td>15</td>\n",
       "      <td>855</td>\n",
       "    </tr>\n",
       "    <tr>\n",
       "      <th>8</th>\n",
       "      <td>Bus via Paris - Roissy Charles De Gaulle Airpo...</td>\n",
       "      <td>37€ - 45€</td>\n",
       "      <td>1</td>\n",
       "      <td>0</td>\n",
       "      <td>0</td>\n",
       "      <td>0</td>\n",
       "      <td>45€</td>\n",
       "      <td>37€</td>\n",
       "      <td>16h 29m</td>\n",
       "      <td>16</td>\n",
       "      <td>29</td>\n",
       "      <td>989</td>\n",
       "    </tr>\n",
       "    <tr>\n",
       "      <th>9</th>\n",
       "      <td>Drive  •  9h 36m</td>\n",
       "      <td>120€ - 190€</td>\n",
       "      <td>0</td>\n",
       "      <td>0</td>\n",
       "      <td>1</td>\n",
       "      <td>0</td>\n",
       "      <td>190€</td>\n",
       "      <td>120€</td>\n",
       "      <td>9h 36m</td>\n",
       "      <td>9</td>\n",
       "      <td>36</td>\n",
       "      <td>576</td>\n",
       "    </tr>\n",
       "  </tbody>\n",
       "</table>\n",
       "</div>"
      ],
      "text/plain": [
       "                                          itineraire         prix  \\\n",
       "0           Fly Paris CDG to Berlin Tegel  •  4h 45m   47€ - 174€   \n",
       "1          Fly Paris Orly to Berlin Tegel  •  4h 41m   89€ - 387€   \n",
       "2     Fly Paris CDG to Berlin Schoenefeld  •  4h 53m   97€ - 246€   \n",
       "3    Fly Paris Orly to Berlin Schoenefeld  •  7h 18m   49€ - 159€   \n",
       "4  Train to Brussels, fly to Berlin Tegel  •  5h 39m  117€ - 338€   \n",
       "5             Train via Frankfurt am Main  •  8h 29m  187€ - 277€   \n",
       "6                                  Train  •  12h 23m   90€ - 140€   \n",
       "7                                    Bus  •  14h 15m    45€ - 65€   \n",
       "8  Bus via Paris - Roissy Charles De Gaulle Airpo...    37€ - 45€   \n",
       "9                                   Drive  •  9h 36m  120€ - 190€   \n",
       "\n",
       "   Nb_bus_taken  Nb_train_taken  Nb_car_taken  Nb_plane_taken Price_max  \\\n",
       "0             0               0             0               1      174€   \n",
       "1             0               0             0               1      387€   \n",
       "2             0               0             0               1      246€   \n",
       "3             0               0             0               1      159€   \n",
       "4             0               1             0               1      338€   \n",
       "5             0               1             0               0      277€   \n",
       "6             0               1             0               0      140€   \n",
       "7             1               0             0               0       65€   \n",
       "8             1               0             0               0       45€   \n",
       "9             0               0             1               0      190€   \n",
       "\n",
       "  Price_min   Duration heure minute  Duration_final  \n",
       "0      47€      4h 45m     4     45             285  \n",
       "1      89€      4h 41m     4     41             281  \n",
       "2      97€      4h 53m     4     53             293  \n",
       "3      49€      7h 18m     7     18             438  \n",
       "4     117€      5h 39m     5     39             339  \n",
       "5     187€      8h 29m     8     29             509  \n",
       "6      90€     12h 23m    12     23             743  \n",
       "7      45€     14h 15m    14     15             855  \n",
       "8      37€     16h 29m    16     29             989  \n",
       "9     120€      9h 36m     9     36             576  "
      ]
     },
     "execution_count": 143,
     "metadata": {},
     "output_type": "execute_result"
    }
   ],
   "source": [
    "data"
   ]
  },
  {
   "cell_type": "code",
   "execution_count": null,
   "metadata": {},
   "outputs": [],
   "source": []
  },
  {
   "cell_type": "code",
   "execution_count": 58,
   "metadata": {
    "scrolled": false
   },
   "outputs": [
    {
     "name": "stdout",
     "output_type": "stream",
     "text": [
      "Fly Paris CDG to Berlin Tegel  •  4h 45m\n",
      "47€ - 174€\n",
      "Fly Paris Orly to Berlin Tegel  •  4h 41m\n",
      "89€ - 387€\n",
      "Fly Paris CDG to Berlin Schoenefeld  •  4h 53m\n",
      "97€ - 246€\n",
      "Fly Paris Orly to Berlin Schoenefeld  •  7h 18m\n",
      "49€ - 159€\n",
      "Train to Brussels, fly to Berlin Tegel  •  5h 39m\n",
      "117€ - 338€\n",
      "Train via Frankfurt am Main  •  8h 29m\n",
      "187€ - 277€\n",
      "Train  •  12h 23m\n",
      "90€ - 140€\n",
      "Bus  •  14h 15m\n",
      "45€ - 65€\n",
      "Bus via Paris - Roissy Charles De Gaulle Airport  •  16h 29m\n",
      "37€ - 45€\n",
      "Drive  •  9h 36m\n",
      "120€ - 190€\n"
     ]
    }
   ],
   "source": [
    "data=pd.DataFrame()\n",
    "for i in range(items):\n",
    "    print(driver.find_elements_by_class_name(\"route__title\")[i].text)\n",
    "    print(driver.find_elements_by_class_name(\"route__details\")[i].text)"
   ]
  },
  {
   "cell_type": "code",
   "execution_count": 61,
   "metadata": {},
   "outputs": [],
   "source": [
    "df = pd.DataFrame(columns=['Departure_city', 'Arrival_city','Nb_bus_taken','Nb_train_taken','Nb_car_taken','Duration','Price_min','Price_max'])"
   ]
  },
  {
   "cell_type": "code",
   "execution_count": 64,
   "metadata": {},
   "outputs": [
    {
     "data": {
      "text/html": [
       "<div>\n",
       "<style scoped>\n",
       "    .dataframe tbody tr th:only-of-type {\n",
       "        vertical-align: middle;\n",
       "    }\n",
       "\n",
       "    .dataframe tbody tr th {\n",
       "        vertical-align: top;\n",
       "    }\n",
       "\n",
       "    .dataframe thead th {\n",
       "        text-align: right;\n",
       "    }\n",
       "</style>\n",
       "<table border=\"1\" class=\"dataframe\">\n",
       "  <thead>\n",
       "    <tr style=\"text-align: right;\">\n",
       "      <th></th>\n",
       "      <th>Departure_city</th>\n",
       "      <th>Arrival_city</th>\n",
       "      <th>Nb_bus_taken</th>\n",
       "      <th>Nb_train_taken</th>\n",
       "      <th>Nb_car_taken</th>\n",
       "      <th>Duration</th>\n",
       "      <th>Price_min</th>\n",
       "      <th>Price_max</th>\n",
       "    </tr>\n",
       "  </thead>\n",
       "  <tbody>\n",
       "  </tbody>\n",
       "</table>\n",
       "</div>"
      ],
      "text/plain": [
       "Empty DataFrame\n",
       "Columns: [Departure_city, Arrival_city, Nb_bus_taken, Nb_train_taken, Nb_car_taken, Duration, Price_min, Price_max]\n",
       "Index: []"
      ]
     },
     "execution_count": 64,
     "metadata": {},
     "output_type": "execute_result"
    }
   ],
   "source": [
    "df"
   ]
  },
  {
   "cell_type": "code",
   "execution_count": null,
   "metadata": {},
   "outputs": [],
   "source": []
  },
  {
   "cell_type": "code",
   "execution_count": null,
   "metadata": {},
   "outputs": [],
   "source": []
  },
  {
   "cell_type": "code",
   "execution_count": 39,
   "metadata": {},
   "outputs": [
    {
     "name": "stdout",
     "output_type": "stream",
     "text": [
      "['Paris', 'Berlin', 'Rome', 'Madrid', 'Londres', 'Dublin', 'Lisbonne', 'Bruxelles', 'Luxembourg', 'Amsterdam', 'Berne', 'Copenhague', 'Oslo', 'Stockholm', 'Helsinki', 'Tallinn', 'Riga', 'Vilnius', 'Varsovie', 'Prague', 'Vienne', 'Bratislava', 'Budapest', 'Ljubljana', 'AnkaraBucarest', 'Belgrade', 'Sofia', 'Tijana', 'Skopje', 'Athène', 'Chisinau', 'Kiev', 'Minsk', 'Moscou', 'Tbilissi', 'Bakou', 'Erevan', 'Sarajevo', 'Reykjavik', 'La Valette', 'Zagreb']\n"
     ]
    }
   ],
   "source": [
    "#liste capitales\n",
    "liste_capitale  = [\"Paris\",\"Berlin\",\"Rome\",\"Madrid\",\"Londres\",\"Dublin\",\"Lisbonne\",\n",
    "\"Bruxelles\",\"Luxembourg\",\"Amsterdam\",\"Berne\",\"Copenhague\",\"Oslo\",\"Stockholm\",\"Helsinki\",\n",
    "\"Tallinn\",\"Riga\",\"Vilnius\",\"Varsovie\",\"Prague\",\"Vienne\",\"Bratislava\",\"Budapest\",\"Ljubljana\",\"Ankara\"\n",
    "\"Bucarest\",\"Belgrade\",\"Sofia\",\"Tijana\",\"Skopje\",\"Athène\",\"Chisinau\",\"Kiev\",\"Minsk\",\"Moscou\",\n",
    "\"Tbilissi\",\"Bakou\",\"Erevan\",\"Sarajevo\",\"Reykjavik\",\"La Valette\",\"Zagreb\"]\n",
    "print(liste_capitale)"
   ]
  },
  {
   "cell_type": "code",
   "execution_count": 51,
   "metadata": {
    "collapsed": true
   },
   "outputs": [
    {
     "name": "stdout",
     "output_type": "stream",
     "text": [
      "      depart         arrivee\n",
      "0      Paris          Berlin\n",
      "1      Paris            Rome\n",
      "2      Paris          Madrid\n",
      "3      Paris         Londres\n",
      "4      Paris          Dublin\n",
      "5      Paris        Lisbonne\n",
      "6      Paris       Bruxelles\n",
      "7      Paris      Luxembourg\n",
      "8      Paris       Amsterdam\n",
      "9      Paris           Berne\n",
      "10     Paris      Copenhague\n",
      "11     Paris            Oslo\n",
      "12     Paris       Stockholm\n",
      "13     Paris        Helsinki\n",
      "14     Paris         Tallinn\n",
      "15     Paris            Riga\n",
      "16     Paris         Vilnius\n",
      "17     Paris        Varsovie\n",
      "18     Paris          Prague\n",
      "19     Paris          Vienne\n",
      "20     Paris      Bratislava\n",
      "21     Paris        Budapest\n",
      "22     Paris       Ljubljana\n",
      "23     Paris  AnkaraBucarest\n",
      "24     Paris        Belgrade\n",
      "25     Paris           Sofia\n",
      "26     Paris          Tijana\n",
      "27     Paris          Skopje\n",
      "28     Paris          Athène\n",
      "29     Paris        Chisinau\n",
      "...      ...             ...\n",
      "1610  Zagreb           Berne\n",
      "1611  Zagreb      Copenhague\n",
      "1612  Zagreb            Oslo\n",
      "1613  Zagreb       Stockholm\n",
      "1614  Zagreb        Helsinki\n",
      "1615  Zagreb         Tallinn\n",
      "1616  Zagreb            Riga\n",
      "1617  Zagreb         Vilnius\n",
      "1618  Zagreb        Varsovie\n",
      "1619  Zagreb          Prague\n",
      "1620  Zagreb          Vienne\n",
      "1621  Zagreb      Bratislava\n",
      "1622  Zagreb        Budapest\n",
      "1623  Zagreb       Ljubljana\n",
      "1624  Zagreb  AnkaraBucarest\n",
      "1625  Zagreb        Belgrade\n",
      "1626  Zagreb           Sofia\n",
      "1627  Zagreb          Tijana\n",
      "1628  Zagreb          Skopje\n",
      "1629  Zagreb          Athène\n",
      "1630  Zagreb        Chisinau\n",
      "1631  Zagreb            Kiev\n",
      "1632  Zagreb           Minsk\n",
      "1633  Zagreb          Moscou\n",
      "1634  Zagreb        Tbilissi\n",
      "1635  Zagreb           Bakou\n",
      "1636  Zagreb          Erevan\n",
      "1637  Zagreb        Sarajevo\n",
      "1638  Zagreb       Reykjavik\n",
      "1639  Zagreb      La Valette\n",
      "\n",
      "[1640 rows x 2 columns]\n"
     ]
    }
   ],
   "source": [
    "df = pd.DataFrame(columns=['depart', 'arrivee'])\n",
    "df['depart'] = depart\n",
    "df['arrivee'] = arrivee\n",
    "print(df)"
   ]
  },
  {
   "cell_type": "code",
   "execution_count": null,
   "metadata": {},
   "outputs": [],
   "source": [
    "soup = bs(page,'html.parser')\n",
    "donnees = soup.findAll('div',attrs={'class':re.search(\".\"+'js-itinerary js-itinerary-subkind'+\".\")})\n",
    "donnees"
   ]
  }
 ],
 "metadata": {
  "kernelspec": {
   "display_name": "Python 3",
   "language": "python",
   "name": "python3"
  },
  "language_info": {
   "codemirror_mode": {
    "name": "ipython",
    "version": 3
   },
   "file_extension": ".py",
   "mimetype": "text/x-python",
   "name": "python",
   "nbconvert_exporter": "python",
   "pygments_lexer": "ipython3",
   "version": "3.7.4"
  }
 },
 "nbformat": 4,
 "nbformat_minor": 2
}
