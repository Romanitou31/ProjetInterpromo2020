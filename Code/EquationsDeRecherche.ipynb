{
 "cells": [
  {
   "cell_type": "code",
   "execution_count": null,
   "metadata": {},
   "outputs": [],
   "source": [
    "compagniesAeriennes=[\"American Airlines\",\"Air Canada\",\"Air France\",\"Air Algerie\",\"Air India\",\"Aerolineas Argentinas\",\"Royal Air Maroc\",\"Finnair\" ,\"Alitalia \",\" Nouvelair\",\"Air China\",\"Cathay Pacific\",\"Delta Airlines\",\"Aer Lingus\",\"Emirates\",\"Ethiopian Airlines\",\"Icelandair\",\"Hawaiian Airlines\",\"Iberia\",\"Meridiana\",\"Japan Airlines\",\"KLM\",\"Air Malta\",\"Lan Airlines\",\"Luxair\",\"LIAT\",\"LOT Polish Airlines\",\"Air Madagascar\",\"Air Mauritius\",\"Austrian Airlines\",\"Qatar Airways\",\"South African Airways\",\"SAS Scandinavian Airlines\",\"Brussels Airlines\",\"Singapore Airlines\",\"Corsair\",\"Aeroflot\",\"Thai Airways\",\"Turkish Airlines\",\"TAP Portugal\",\"Air Transat\",\"Tunisair\",\"Air Caraibes\",\"United Airlines\",\"Air Austral\",\"Air Europa\",\"Easyjet\",\"Vietnam Airlines\",\"Virgin Atlantic\",\"Air Corsica\",\"Condor\",\"Flybe\",\"Aegean Airlines\",\"Air Tahiti Nui\",\"Aigle Azur\",\"HOP!\",\"Jet Airways\",\"Etihad Airways\",\"Etihad Airways\",\"Oman Air\",\"XL Airways\",\"Ryanair LTD\",\"Vueling \",\"Norwegian\",\"Transavia France\",\"Germanwings\",\"TUI Fly Belgium\",\"Air Arabia\",\"WOW air\",\"Wizz Air\",\"Air Asia\",\"Volotea\",\"southwest airlines\"]\n",
    "modelesBoeing=[\"Boeing 717\",\"Boeing 727\",\"Boeing 737-200\",\"Boeing 737-300\",\"Boeing 737-400\",\"Boeing 737-500\",\"Boeing 737-600\",\"Boeing 737-700\",\"Boeing 737-700ER\",\"Boeing 737-800\",\"Boeing 737-900\",\"Boeing 737-900ER\",\"Boeing 737 MAX 7\",\"Boeing 737 MAX 8\",\"Boeing 737 MAX 9\",\"Boeing 737 MAX 10\",\"Boeing 747-200\",\"Boeing 747-400\",\"Boeing 757-200\",\"Boeing 757-300\",\"Boeing 767-200\",\"Boeing 767-300\",\"Boeing 767-300ER\",\"Boeing 767-400ER\",\"Boeing 777 Triple Seven\",\"Boeing 787 DreamLiner\"]\n",
    "modelesAirbus=[\"A300\",\"A300-600ST\",\"A318\",\"A319\",\"A320-100\",\"A320-200\",\"A320neo\",\"A321-100\",\"A321-200\",\"A330-200\",\"A330-300\",\"A330-200F\",\"A330-500\",\"A340-200\",\"A340-300\",\"A340-500\",\"A340-600\",\"A350-900\",\"A350-1000\",\"A380-800\",\"A220-300\"]\n",
    "motsCles=[\"trip\",\"fly\",\"plane\",\"airplane\",\"flight\"]\n",
    "\n",
    "equations=[]\n",
    "for comp in compagniesAeriennes:\n",
    "    for mod in modelesAirbus:\n",
    "        equations.append(comp+\" \"+mod)\n",
    "    for mod in modelesBoeing:\n",
    "        equations.append(comp+\" \"+mod)\n"
   ]
  }
 ],
 "metadata": {
  "kernelspec": {
   "display_name": "Python 3",
   "language": "python",
   "name": "python3"
  },
  "language_info": {
   "codemirror_mode": {
    "name": "ipython",
    "version": 3
   },
   "file_extension": ".py",
   "mimetype": "text/x-python",
   "name": "python",
   "nbconvert_exporter": "python",
   "pygments_lexer": "ipython3",
   "version": "3.7.3"
  }
 },
 "nbformat": 4,
 "nbformat_minor": 2
}
